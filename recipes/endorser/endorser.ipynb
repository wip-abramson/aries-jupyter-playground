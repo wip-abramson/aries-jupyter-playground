{
 "cells": [
  {
   "cell_type": "markdown",
   "id": "c68f3977",
   "metadata": {},
   "source": [
    "# Initialising Your Agent as a Transaction Endorser\n",
    "\n",
    "This template walks you through the basic steps you need to take to configure your agent as an issuing authority on the Sovrin StagingNet. If using a different network you will need to update this template. The steps include:\n",
    "\n",
    "* Writing your DID to the Sovrin StagingNet\n",
    "* Accepting the Transaction Author Agreement\n",
    "\n",
    "It is recommended that this initialisation notebook be run **once**. If you are following the default docker-compose services then your agents wallet storage will be persisted in a postgres database as long as you run `./manage stop` rather than `./manage down`. \n",
    "\n"
   ]
  },
  {
   "cell_type": "markdown",
   "id": "d0cdac48",
   "metadata": {},
   "source": [
    "### Imports"
   ]
  },
  {
   "cell_type": "code",
   "execution_count": 1,
   "id": "bceaeed5",
   "metadata": {},
   "outputs": [],
   "source": [
    "from aries_cloudcontroller import AriesAgentController\n",
    "import os\n",
    "from termcolor import colored"
   ]
  },
  {
   "cell_type": "markdown",
   "id": "2825170c",
   "metadata": {},
   "source": [
    "### Initialise the Agent Controller"
   ]
  },
  {
   "cell_type": "code",
   "execution_count": 2,
   "id": "a6e14233",
   "metadata": {},
   "outputs": [
    {
     "name": "stdout",
     "output_type": "stream",
     "text": [
      "Initialising a controller with admin api at http://alice-agent:3021 and an api key of adminApiKey\n"
     ]
    }
   ],
   "source": [
    "api_key = os.getenv(\"ACAPY_ADMIN_API_KEY\")\n",
    "admin_url = os.getenv(\"ADMIN_URL\")\n",
    "\n",
    "print(f\"Initialising a controller with admin api at {admin_url} and an api key of {api_key}\")\n",
    "agent_controller = AriesAgentController(admin_url,api_key)"
   ]
  },
  {
   "cell_type": "markdown",
   "id": "059437c0",
   "metadata": {},
   "source": [
    "## Start Webhook Server"
   ]
  },
  {
   "cell_type": "code",
   "execution_count": 3,
   "id": "63267bb2",
   "metadata": {},
   "outputs": [
    {
     "name": "stderr",
     "output_type": "stream",
     "text": [
      "Listening webhooks failed! OSError(98, \"error while attempting to bind on address ('0.0.0.0', 3010): address already in use\") occurred.\n",
      "Listening webhooks failed! OSError(98, \"error while attempting to bind on address ('0.0.0.0', 3010): address already in use\") occurred.\n"
     ]
    },
    {
     "ename": "Exception",
     "evalue": "OSError(98, \"error while attempting to bind on address ('0.0.0.0', 3010): address already in use\")",
     "output_type": "error",
     "traceback": [
      "\u001b[0;31m---------------------------------------------------------------------------\u001b[0m",
      "\u001b[0;31mOSError\u001b[0m                                   Traceback (most recent call last)",
      "\u001b[0;32m/opt/conda/lib/python3.7/site-packages/aries_cloudcontroller/aries_controller.py\u001b[0m in \u001b[0;36minit_webhook_server\u001b[0;34m(self, webhook_host, webhook_port, webhook_base)\u001b[0m\n\u001b[1;32m     63\u001b[0m             )\n\u001b[0;32m---> 64\u001b[0;31m             \u001b[0;32mawait\u001b[0m \u001b[0mself\u001b[0m\u001b[0;34m.\u001b[0m\u001b[0mwebhook_server\u001b[0m\u001b[0;34m.\u001b[0m\u001b[0mlisten_webhooks\u001b[0m\u001b[0;34m(\u001b[0m\u001b[0;34m)\u001b[0m\u001b[0;34m\u001b[0m\u001b[0;34m\u001b[0m\u001b[0m\n\u001b[0m\u001b[1;32m     65\u001b[0m             logger.info(\n",
      "\u001b[0;32m/opt/conda/lib/python3.7/site-packages/aries_cloudcontroller/aries_webhook_server.py\u001b[0m in \u001b[0;36mlisten_webhooks\u001b[0;34m(self)\u001b[0m\n\u001b[1;32m     55\u001b[0m             )\n\u001b[0;32m---> 56\u001b[0;31m             \u001b[0;32mawait\u001b[0m \u001b[0mself\u001b[0m\u001b[0;34m.\u001b[0m\u001b[0mwebhook_site\u001b[0m\u001b[0;34m.\u001b[0m\u001b[0mstart\u001b[0m\u001b[0;34m(\u001b[0m\u001b[0;34m)\u001b[0m\u001b[0;34m\u001b[0m\u001b[0;34m\u001b[0m\u001b[0m\n\u001b[0m\u001b[1;32m     57\u001b[0m             logger.info(\n",
      "\u001b[0;32m/opt/conda/lib/python3.7/site-packages/aiohttp/web_runner.py\u001b[0m in \u001b[0;36mstart\u001b[0;34m(self)\u001b[0m\n\u001b[1;32m    127\u001b[0m             \u001b[0mreuse_address\u001b[0m\u001b[0;34m=\u001b[0m\u001b[0mself\u001b[0m\u001b[0;34m.\u001b[0m\u001b[0m_reuse_address\u001b[0m\u001b[0;34m,\u001b[0m\u001b[0;34m\u001b[0m\u001b[0;34m\u001b[0m\u001b[0m\n\u001b[0;32m--> 128\u001b[0;31m             \u001b[0mreuse_port\u001b[0m\u001b[0;34m=\u001b[0m\u001b[0mself\u001b[0m\u001b[0;34m.\u001b[0m\u001b[0m_reuse_port\u001b[0m\u001b[0;34m,\u001b[0m\u001b[0;34m\u001b[0m\u001b[0;34m\u001b[0m\u001b[0m\n\u001b[0m\u001b[1;32m    129\u001b[0m         )\n",
      "\u001b[0;32m/opt/conda/lib/python3.7/asyncio/base_events.py\u001b[0m in \u001b[0;36mcreate_server\u001b[0;34m(self, protocol_factory, host, port, family, flags, sock, backlog, ssl, reuse_address, reuse_port, ssl_handshake_timeout, start_serving)\u001b[0m\n\u001b[1;32m   1384\u001b[0m                                       \u001b[0;34m'to bind on address %r: %s'\u001b[0m\u001b[0;34m\u001b[0m\u001b[0;34m\u001b[0m\u001b[0m\n\u001b[0;32m-> 1385\u001b[0;31m                                       % (sa, err.strerror.lower())) from None\n\u001b[0m\u001b[1;32m   1386\u001b[0m                 \u001b[0mcompleted\u001b[0m \u001b[0;34m=\u001b[0m \u001b[0;32mTrue\u001b[0m\u001b[0;34m\u001b[0m\u001b[0;34m\u001b[0m\u001b[0m\n",
      "\u001b[0;31mOSError\u001b[0m: [Errno 98] error while attempting to bind on address ('0.0.0.0', 3010): address already in use",
      "\nDuring handling of the above exception, another exception occurred:\n",
      "\u001b[0;31mException\u001b[0m                                 Traceback (most recent call last)",
      "\u001b[0;32m<ipython-input-3-70452721f9fe>\u001b[0m in \u001b[0;36masync-def-wrapper\u001b[0;34m()\u001b[0m\n\u001b[1;32m      5\u001b[0m \u001b[0;34m\u001b[0m\u001b[0m\n\u001b[1;32m      6\u001b[0m \u001b[0mprint\u001b[0m\u001b[0;34m(\u001b[0m\u001b[0;34mf\"Listening for webhooks from agent at http://{webhook_host}:{webhook_port}\"\u001b[0m\u001b[0;34m)\u001b[0m\u001b[0;34m\u001b[0m\u001b[0;34m\u001b[0m\u001b[0m\n",
      "\u001b[0;32m/opt/conda/lib/python3.7/site-packages/aries_cloudcontroller/aries_controller.py\u001b[0m in \u001b[0;36minit_webhook_server\u001b[0;34m(self, webhook_host, webhook_port, webhook_base)\u001b[0m\n\u001b[1;32m     68\u001b[0m         \u001b[0;32mexcept\u001b[0m \u001b[0mException\u001b[0m \u001b[0;32mas\u001b[0m \u001b[0mexc\u001b[0m\u001b[0;34m:\u001b[0m\u001b[0;34m\u001b[0m\u001b[0;34m\u001b[0m\u001b[0m\n\u001b[1;32m     69\u001b[0m             \u001b[0mlogger\u001b[0m\u001b[0;34m.\u001b[0m\u001b[0merror\u001b[0m\u001b[0;34m(\u001b[0m\u001b[0;34mf\"Listening webhooks failed! {exc!r} occurred.\"\u001b[0m\u001b[0;34m)\u001b[0m\u001b[0;34m\u001b[0m\u001b[0;34m\u001b[0m\u001b[0m\n\u001b[0;32m---> 70\u001b[0;31m             \u001b[0;32mraise\u001b[0m \u001b[0mException\u001b[0m\u001b[0;34m(\u001b[0m\u001b[0;34mf\"{exc!r}\"\u001b[0m\u001b[0;34m)\u001b[0m\u001b[0;34m\u001b[0m\u001b[0;34m\u001b[0m\u001b[0m\n\u001b[0m",
      "\u001b[0;31mException\u001b[0m: OSError(98, \"error while attempting to bind on address ('0.0.0.0', 3010): address already in use\")"
     ]
    }
   ],
   "source": [
    "webhook_port = int(os.getenv(\"WEBHOOK_PORT\"))\n",
    "webhook_host = \"0.0.0.0\"\n",
    "\n",
    "await agent_controller.init_webhook_server(webhook_host, webhook_port)\n",
    "\n",
    "print(f\"Listening for webhooks from agent at http://{webhook_host}:{webhook_port}\")"
   ]
  },
  {
   "cell_type": "code",
   "execution_count": null,
   "id": "d0d42070",
   "metadata": {},
   "outputs": [],
   "source": [
    "listeners = []"
   ]
  },
  {
   "cell_type": "code",
   "execution_count": null,
   "id": "e2ef57fb",
   "metadata": {},
   "outputs": [],
   "source": [
    "def transaction_handler(payload):\n",
    "    print(\"Transaction Handler\")\n",
    "    print(payload)\n",
    "    \n",
    "transaction_listener = {\n",
    "    \"topic\": \"transaction\",\n",
    "    \"handler\": transaction_handler\n",
    "\n",
    "}\n",
    "\n",
    "listeners.append(transaction_listener)"
   ]
  },
  {
   "cell_type": "code",
   "execution_count": null,
   "id": "586266b7",
   "metadata": {},
   "outputs": [],
   "source": [
    "# Receive connection messages\n",
    "def connections_handler(payload):\n",
    "    state = payload['state']\n",
    "    connection_id = payload[\"connection_id\"]\n",
    "    their_role = payload[\"their_role\"]\n",
    "    routing_state = payload[\"routing_state\"]\n",
    "    \n",
    "    print(\"----------------------------------------------------------\")\n",
    "    print(\"Connection Webhook Event Received\")\n",
    "    print(\"Connection ID : \", connection_id)\n",
    "    print(\"State : \", state)\n",
    "    print(\"Routing State : \", routing_state)\n",
    "    print(\"Their Role : \", their_role)\n",
    "    print(\"----------------------------------------------------------\")\n",
    "    if state == \"active\":\n",
    "        # Your business logic\n",
    "        print(colored(\"Connection ID: {0} is now active.\".format(connection_id), \"green\", attrs=[\"bold\"]))\n",
    "\n",
    "connection_listener = {\n",
    "    \"handler\": connections_handler,\n",
    "    \"topic\": \"connections\"\n",
    "}\n",
    "\n",
    "listeners.append(connection_listener)"
   ]
  },
  {
   "cell_type": "code",
   "execution_count": null,
   "id": "2dd18a0f",
   "metadata": {},
   "outputs": [],
   "source": [
    "agent_controller.register_listeners(listeners)"
   ]
  },
  {
   "cell_type": "markdown",
   "id": "faf8f03e",
   "metadata": {},
   "source": [
    "## Write DID to the Public Ledger\n",
    "\n",
    "Note: if defined a ACAPY_WALLET_SEED value for your agent then this function will return a DID, but this DID still needs to be written to the ledger. If you did not define a seed you will need to create a DID first."
   ]
  },
  {
   "cell_type": "code",
   "execution_count": null,
   "id": "d5ed1436",
   "metadata": {},
   "outputs": [],
   "source": [
    "public_did_response = await agent_controller.wallet.get_public_did()"
   ]
  },
  {
   "cell_type": "code",
   "execution_count": null,
   "id": "1cd789ec",
   "metadata": {},
   "outputs": [],
   "source": [
    "if public_did_response[\"result\"]:\n",
    "    did_obj = public_did_response[\"result\"]\n",
    "else:\n",
    "    create_did_response = await agent_controller.wallet.create_did()\n",
    "    did_obj = create_did_response['result']\n",
    "print(\"DID\", did_obj)"
   ]
  },
  {
   "cell_type": "code",
   "execution_count": null,
   "id": "7b8c89c2",
   "metadata": {},
   "outputs": [],
   "source": [
    "# write new DID to Sovrin Stagingnet\n",
    "import requests\n",
    "import json \n",
    "\n",
    "url = 'https://selfserve.sovrin.org/nym'\n",
    "\n",
    "payload = {\"network\":\"stagingnet\",\"did\": did_obj[\"did\"],\"verkey\":did_obj[\"verkey\"],\"paymentaddr\":\"\"}\n",
    "\n",
    "# Adding empty header as parameters are being sent in payload\n",
    "headers = {}\n",
    "\n",
    "r = requests.post(url, data=json.dumps(payload), headers=headers)\n",
    "print(r.json())"
   ]
  },
  {
   "cell_type": "markdown",
   "id": "ce787871",
   "metadata": {},
   "source": [
    "## Accept Transaction Author Agreement\n",
    "\n",
    "Although the Sovrin StagingNet is permissionless, before DID's have the authority to write to the ledger they must accept something called a transaction author agreement by signing it using the DID they have on the ledger.\n",
    "\n",
    "As a global public ledger, the Sovrin Ledger and all its participants are subject to privacy and data protection regulations such as the EU General Data Protection Regulation (GDPR). These regulations require that the participants be explicit about responsibilities for Personal Data.\n",
    "\n",
    "To clarify these responsibilities and provide protection for all parties, the Sovrin Governance Framework Working Group developed an agreement between Transaction Authors and the Sovrin Foundation. The TAA can be found at Sovrin.org. It ensures that users are aware of and consent to the fact that all data written to the Sovrin Ledger cannot be removed, even if the original author of the transaction requests its removal.\n",
    "\n",
    "The TAA outlines the policies that users must follow when interacting with the Sovrin Ledger. When a user’s client software is preparing a transaction for submission to the network, it must include a demonstration that the user had the opportunity to review the current TAA and accept it. This is done by including some additional fields in the ledger write transaction: \n",
    "\n",
    "* A hash of the agreement\n",
    "* A date when the agreement was accepted, and\n",
    "* A string indicating the user interaction that was followed to obtain the acceptance.\n",
    "\n",
    "The Indy client API used by Sovrin has been extended to allow users to review current and past agreements and to indicate acceptance through an approved user interaction pattern. - source: https://sovrin.org/preparing-for-the-sovrin-transaction-author-agreement/\n",
    "\n",
    "For more details on TAA please read more at the following links:\n",
    "* [Preparing for the Sovrin Transaction Author Agreement](https://sovrin.org/preparing-for-the-sovrin-transaction-author-agreement/)\n",
    "* [How the recent approval of the Sovrin Governance Framework v2 affects Transaction Authors\n",
    "](https://sovrin.org/how-the-recent-approval-of-the-sovrin-governance-framework-v2-affects-transaction-authors/)\n",
    "* [TAA v2](https://github.com/sovrin-foundation/sovrin/blob/master/TAA/TAA.md)\n",
    "* [TAA Acceptance Mechanism List (AML)](https://github.com/sovrin-foundation/sovrin/blob/master/TAA/AML.md)"
   ]
  },
  {
   "cell_type": "code",
   "execution_count": null,
   "id": "5b888a64",
   "metadata": {},
   "outputs": [],
   "source": [
    "taa_response = await agent_controller.ledger.get_taa()\n",
    "TAA = taa_response['result']['taa_record']\n",
    "TAA['mechanism'] = \"service_agreement\"\n",
    "await agent_controller.ledger.accept_taa(TAA)"
   ]
  },
  {
   "cell_type": "markdown",
   "id": "f20bc832",
   "metadata": {},
   "source": [
    "## Assign Agent Public DID if Not Set\n",
    "\n",
    "Will only be ran if ACAPY_WALLET_SEED not initially set."
   ]
  },
  {
   "cell_type": "code",
   "execution_count": null,
   "id": "0d7a793f",
   "metadata": {},
   "outputs": [],
   "source": [
    "if did_obj[\"posture\"] != \"public\":\n",
    "    response = await agent_controller.wallet.assign_public_did(did_obj[\"did\"])\n",
    "print(\"Successfully intialised agent with Public DID : \", did_obj[\"did\"])"
   ]
  },
  {
   "cell_type": "markdown",
   "id": "491bf4c7",
   "metadata": {},
   "source": [
    "## Copy DID and Verkey from Author notebook\n",
    "\n",
    "The endorser then writes this DID to the ledger"
   ]
  },
  {
   "cell_type": "code",
   "execution_count": null,
   "id": "9f9f259c",
   "metadata": {},
   "outputs": [],
   "source": [
    "did =\"<author did>\"\n",
    "verkey=\"<author verykey>\"\n",
    "# Can be Trustee, Endorser etc.\n",
    "role=None\n",
    "alias=\"Aries Playground\"\n",
    "\n",
    "response = await agent_controller.ledger.register_nym(did, verkey, role, alias)"
   ]
  },
  {
   "cell_type": "code",
   "execution_count": null,
   "id": "1be3b3ac",
   "metadata": {},
   "outputs": [],
   "source": [
    "print(response)"
   ]
  },
  {
   "cell_type": "markdown",
   "id": "1714aaf4",
   "metadata": {},
   "source": [
    "## Connect with Transaction Authors"
   ]
  },
  {
   "cell_type": "markdown",
   "id": "d13bd8dc",
   "metadata": {},
   "source": [
    "## Create Invitation\n",
    "\n",
    "Note the current arguments specified are in their default configurations. "
   ]
  },
  {
   "cell_type": "code",
   "execution_count": 4,
   "id": "97f32661",
   "metadata": {},
   "outputs": [],
   "source": [
    "# Alias for invited connection\n",
    "alias = None\n",
    "auto_accept = False\n",
    "# Use public DID?\n",
    "public = \"false\"\n",
    "# Should this invitation be usable by multiple invitees?\n",
    "multi_use = \"false\"\n",
    "\n",
    "invitation_response = await agent_controller.connections.create_invitation(alias, auto_accept, public, multi_use)\n",
    "# Is equivalent to above. Arguments are optionally\n",
    "# invitation_response = await agent_controller.connections.create_invitation()\n",
    "\n",
    "\n",
    "\n",
    "# You probably want to keep this somewhere so you can enage in other protocols with this connection.\n",
    "connection_id = invitation_response[\"connection_id\"]\n"
   ]
  },
  {
   "cell_type": "code",
   "execution_count": 5,
   "id": "33c7286b",
   "metadata": {},
   "outputs": [],
   "source": [
    "## Copy invitation to transaction author"
   ]
  },
  {
   "cell_type": "code",
   "execution_count": 6,
   "id": "2f3ba76e",
   "metadata": {},
   "outputs": [
    {
     "name": "stdout",
     "output_type": "stream",
     "text": [
      "{'@type': 'did:sov:BzCbsNYhMrjHiqZDTUASHg;spec/connections/1.0/invitation', '@id': '031ac045-25c8-4a3e-93fa-a352f263574f', 'recipientKeys': ['DskognYvM4eCDajkmHEGrCVe55GHSk9vBGGLMYzMrR7n'], 'serviceEndpoint': 'https://993b7f24cc22.ngrok.io', 'label': 'Alice'}\n"
     ]
    }
   ],
   "source": [
    "print(invitation_response[\"invitation\"])"
   ]
  },
  {
   "cell_type": "markdown",
   "id": "32f52e11",
   "metadata": {},
   "source": [
    "## Terminate Controller\n"
   ]
  },
  {
   "cell_type": "code",
   "execution_count": null,
   "id": "a3fed8e2",
   "metadata": {},
   "outputs": [],
   "source": [
    "await agent_controller.terminate()"
   ]
  },
  {
   "cell_type": "code",
   "execution_count": null,
   "id": "decc9e54",
   "metadata": {},
   "outputs": [],
   "source": []
  }
 ],
 "metadata": {
  "kernelspec": {
   "display_name": "Python 3",
   "language": "python",
   "name": "python3"
  },
  "language_info": {
   "codemirror_mode": {
    "name": "ipython",
    "version": 3
   },
   "file_extension": ".py",
   "mimetype": "text/x-python",
   "name": "python",
   "nbconvert_exporter": "python",
   "pygments_lexer": "ipython3",
   "version": "3.8.5"
  }
 },
 "nbformat": 4,
 "nbformat_minor": 5
}
