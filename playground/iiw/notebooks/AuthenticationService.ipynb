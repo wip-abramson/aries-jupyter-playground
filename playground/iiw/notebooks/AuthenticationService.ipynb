{
 "cells": [
  {
   "cell_type": "markdown",
   "id": "7d3b432f",
   "metadata": {},
   "source": [
    "# Authentication Service \n",
    "\n",
    "## Use this to make connections and challenge them to present specific attributes\n",
    "\n",
    "## Challenge yourself to present the workshop attendance credential if you received one on your mobile\n",
    "\n",
    "Customise these notebooks or the code within the libs folder as you like. It should be fairly easy to combine this code with the messaging service. \n",
    "\n",
    "Also check out the recipes folder for some basic templates for typical agent flows using the aries-cloudcontroller"
   ]
  },
  {
   "cell_type": "markdown",
   "id": "16f80d03",
   "metadata": {},
   "source": [
    "### Imports"
   ]
  },
  {
   "cell_type": "code",
   "execution_count": null,
   "id": "db272fff",
   "metadata": {},
   "outputs": [],
   "source": [
    "from aries_cloudcontroller import AriesAgentController\n",
    "from libs.authentication_service import AuthenticationService\n",
    "import os\n",
    "import time\n",
    "from termcolor import colored"
   ]
  },
  {
   "cell_type": "markdown",
   "id": "77d93a7e",
   "metadata": {},
   "source": [
    "### Initialise the Agent Controller"
   ]
  },
  {
   "cell_type": "code",
   "execution_count": null,
   "id": "00a8fe9b",
   "metadata": {},
   "outputs": [],
   "source": [
    "api_key = os.getenv(\"ACAPY_ADMIN_API_KEY\")\n",
    "admin_url = os.getenv(\"ADMIN_URL\")\n",
    "\n",
    "print(f\"Initialising a controller with admin api at {admin_url} and an api key of {api_key}\")\n",
    "agent_controller = AriesAgentController(admin_url,api_key)"
   ]
  },
  {
   "cell_type": "markdown",
   "id": "352af87c",
   "metadata": {},
   "source": [
    "### Start a Webhook Server"
   ]
  },
  {
   "cell_type": "code",
   "execution_count": null,
   "id": "38469a93",
   "metadata": {},
   "outputs": [],
   "source": [
    "webhook_port = int(os.getenv(\"WEBHOOK_PORT\"))\n",
    "webhook_host = \"0.0.0.0\"\n",
    "\n",
    "await agent_controller.init_webhook_server(webhook_host, webhook_port)\n",
    "\n",
    "print(f\"Listening for webhooks from agent at http://{webhook_host}:{webhook_port}\")"
   ]
  },
  {
   "cell_type": "markdown",
   "id": "33ee0796",
   "metadata": {},
   "source": [
    "## Iniitalise the AuthenticationService\n"
   ]
  },
  {
   "cell_type": "code",
   "execution_count": null,
   "id": "49129f9b",
   "metadata": {},
   "outputs": [],
   "source": [
    "authentication_service = AuthenticationService(agent_controller)"
   ]
  },
  {
   "cell_type": "markdown",
   "id": "30266369",
   "metadata": {},
   "source": [
    "## Define Your Presentation Request Object\n",
    "\n",
    "The one below is for the Aries ACA ACC Jupyter Playground Demo Participation credential. It also requests a self attested attribute for your nickname"
   ]
  },
  {
   "cell_type": "code",
   "execution_count": null,
   "id": "ac7ffcde",
   "metadata": {},
   "outputs": [],
   "source": [
    "# We add a constraint that the attribute must originate from this schema\n",
    "schema_id='84j4TQBmap9C1C7qXAs6M5:2:Aries Jupyter Playground Demo Participation:0.0.1'\n",
    "\n",
    "\n",
    "# Define the list of attributes and restrictions under which each attribute was issued that a prover must satisfy with a presentation\n",
    "# NOTE: if identifying a schema or credential definition then the attribute name must be contained within the corresponding schema.\n",
    "req_attrs = [\n",
    "    {\"name\": \"Participant\", \"restrictions\": [{\"schema_id\": schema_id}]},\n",
    "    # A self attested attribute. No restrictions so the prover can attest to any value for this\n",
    "    {\"name\": \"nickname\", \"restrictions\": []}\n",
    "]\n",
    "\n",
    "# We could extend this to request the name attribute aswell if we wanted.\n",
    "\n",
    "\n",
    "playground_proof = {\n",
    "    \"name\": \"Proof of Playground\",\n",
    "    \"version\": \"1.0\",\n",
    "    \"requested_attributes\": {\n",
    "        # They generally follow this uuid pattern. Unique identifier for attribute within context of this proof request\n",
    "        # Note that req_attr['name'] gets the attribute name of each object. E.g. domain and name in this case\n",
    "        f\"0_{req_attr['name']}_uuid\":\n",
    "        req_attr for req_attr in req_attrs\n",
    "    },\n",
    "    # Predicates allow us to specify range proofs or set membership on attributes. For example greater than 10.\n",
    "    # We will ignore these for now.\n",
    "    \"requested_predicates\": {\n",
    "#         f\"0_{req_pred['name']}_GE_uuid\":\n",
    "#         req_pred for req_pred in req_preds\n",
    "    },\n",
    "    # You can also request the entire proof request be non-revoked\n",
    "    \"non_revoked\":  {\"to\": int(time.time())}\n",
    "}"
   ]
  },
  {
   "cell_type": "markdown",
   "id": "5c801d24",
   "metadata": {},
   "source": [
    "## Create Invitation using AuthenticationService for Mobile\n"
   ]
  },
  {
   "cell_type": "code",
   "execution_count": null,
   "id": "2b55b9f3",
   "metadata": {},
   "outputs": [],
   "source": [
    "response = authentication_service.new_connection_invitation(playground_proof, for_mobile=True)\n",
    "connection_id = response[\"connection_id\"]\n",
    "invitation_url = response[\"invitation_url\"]"
   ]
  },
  {
   "cell_type": "markdown",
   "id": "ac194e87",
   "metadata": {},
   "source": [
    "## Display Invite as QR Code\n",
    "\n",
    "This is useful if you wish to establish a connection with a mobile wallet."
   ]
  },
  {
   "cell_type": "code",
   "execution_count": null,
   "id": "221cffc8",
   "metadata": {},
   "outputs": [],
   "source": [
    "import qrcode\n",
    "# Creating an instance of qrcode\n",
    "qr = qrcode.QRCode(\n",
    "        version=1,\n",
    "        box_size=5,\n",
    "        border=5)\n",
    "qr.add_data(invitation_url)\n",
    "qr.make(fit=True)\n",
    "img = qr.make_image(fill='black', back_color='white')\n",
    "img"
   ]
  },
  {
   "cell_type": "markdown",
   "id": "fa3fc490",
   "metadata": {},
   "source": [
    "## Create Inivtation JSON using AuthenticationService\n",
    "\n",
    "E.g. if you want to connect with another agent running through this notebook interface"
   ]
  },
  {
   "cell_type": "code",
   "execution_count": null,
   "id": "3876cc39",
   "metadata": {},
   "outputs": [],
   "source": [
    "response = authentication_service.new_connection_invitation(playground_proof)\n",
    "connection_id = response[\"connection_id\"]\n",
    "invitation = response[\"invitation\"]"
   ]
  },
  {
   "cell_type": "markdown",
   "id": "96733f41",
   "metadata": {},
   "source": [
    "## Get Connections for Authentication Service\n",
    "\n"
   ]
  },
  {
   "cell_type": "code",
   "execution_count": null,
   "id": "8caee06b",
   "metadata": {},
   "outputs": [],
   "source": [
    "connections = authentication_service.get_connections()\n",
    "for connection in connections:\n",
    "    print(\"Connection ID : \", connection.connection_id)\n",
    "    print(\"Is Active : \", connection.is_active.done() and connection.is_active.result() == True)\n",
    "    print(\"Is Trusted : \", connection.is_active.done() and connection.is_trusted.done() and connection.is_trusted.result() == True)\n",
    "    print(\"Auth Policy Name : \" , connection.auth_policy[\"name\"])\n",
    "    print(\"Verified Attributes : \", connection.verified_attributes)\n",
    "    print(\"Self Attested Attributes : \", connection.self_attested_attributes)"
   ]
  },
  {
   "cell_type": "markdown",
   "id": "b4260105",
   "metadata": {},
   "source": [
    "## Terminate Controller\n",
    "\n",
    "Whenever you have finished with this notebook, be sure to terminate the controller. This is especially important if your business logic runs across multiple notebooks."
   ]
  },
  {
   "cell_type": "code",
   "execution_count": null,
   "id": "9b01a2fb",
   "metadata": {},
   "outputs": [],
   "source": [
    "await agent_controller.terminate()"
   ]
  },
  {
   "cell_type": "code",
   "execution_count": null,
   "id": "11ef6a74",
   "metadata": {},
   "outputs": [],
   "source": []
  }
 ],
 "metadata": {
  "kernelspec": {
   "display_name": "Python 3",
   "language": "python",
   "name": "python3"
  },
  "language_info": {
   "codemirror_mode": {
    "name": "ipython",
    "version": 3
   },
   "file_extension": ".py",
   "mimetype": "text/x-python",
   "name": "python",
   "nbconvert_exporter": "python",
   "pygments_lexer": "ipython3",
   "version": "3.8.5"
  }
 },
 "nbformat": 4,
 "nbformat_minor": 5
}
