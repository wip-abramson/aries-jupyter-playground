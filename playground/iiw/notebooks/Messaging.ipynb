{
 "cells": [
  {
   "cell_type": "markdown",
   "id": "3d9b0cdc",
   "metadata": {},
   "source": [
    "# Messaging\n"
   ]
  },
  {
   "cell_type": "markdown",
   "id": "ca4a267a",
   "metadata": {},
   "source": [
    "### Imports"
   ]
  },
  {
   "cell_type": "code",
   "execution_count": 1,
   "id": "c93d0322",
   "metadata": {},
   "outputs": [],
   "source": [
    "from aries_cloudcontroller import AriesAgentController\n",
    "from libs.messaging_service import MessagingService\n",
    "import os\n",
    "from termcolor import colored"
   ]
  },
  {
   "cell_type": "markdown",
   "id": "f4a675d2",
   "metadata": {},
   "source": [
    "### Initialise the Agent Controller"
   ]
  },
  {
   "cell_type": "code",
   "execution_count": 2,
   "id": "c39f545c",
   "metadata": {},
   "outputs": [
    {
     "name": "stdout",
     "output_type": "stream",
     "text": [
      "Initialising a controller with admin api at http://hlgf-agent:3021 and an api key of adminApiKey\n"
     ]
    }
   ],
   "source": [
    "api_key = os.getenv(\"ACAPY_ADMIN_API_KEY\")\n",
    "admin_url = os.getenv(\"ADMIN_URL\")\n",
    "\n",
    "print(f\"Initialising a controller with admin api at {admin_url} and an api key of {api_key}\")\n",
    "agent_controller = AriesAgentController(admin_url,api_key)"
   ]
  },
  {
   "cell_type": "markdown",
   "id": "3b5e771f",
   "metadata": {},
   "source": [
    "### Start a Webhook Server"
   ]
  },
  {
   "cell_type": "code",
   "execution_count": 3,
   "id": "940619fb",
   "metadata": {},
   "outputs": [
    {
     "name": "stdout",
     "output_type": "stream",
     "text": [
      "Listening for webhooks from agent at http://0.0.0.0:3010\n"
     ]
    }
   ],
   "source": [
    "webhook_port = int(os.getenv(\"WEBHOOK_PORT\"))\n",
    "webhook_host = \"0.0.0.0\"\n",
    "\n",
    "await agent_controller.init_webhook_server(webhook_host, webhook_port)\n",
    "\n",
    "print(f\"Listening for webhooks from agent at http://{webhook_host}:{webhook_port}\")"
   ]
  },
  {
   "cell_type": "markdown",
   "id": "5eb8e6cf",
   "metadata": {},
   "source": [
    "## Instatiate Messaging Service"
   ]
  },
  {
   "cell_type": "code",
   "execution_count": 4,
   "id": "71ce1cc9",
   "metadata": {},
   "outputs": [],
   "source": [
    "messaging_service = MessagingService(agent_controller)"
   ]
  },
  {
   "cell_type": "markdown",
   "id": "9fd11004",
   "metadata": {},
   "source": [
    "### If you saved the state of the service previously you can load it from file"
   ]
  },
  {
   "cell_type": "code",
   "execution_count": 5,
   "id": "432753bb",
   "metadata": {},
   "outputs": [
    {
     "name": "stdout",
     "output_type": "stream",
     "text": [
      "--------------------------------------------------\n",
      "1 Contacts\n",
      "--------------------------------------------------\n",
      "Contact Demo Participant\n",
      "ID: f0b85c02-4560-42d3-8439-92efb6c53424 \n",
      "Label: None\n",
      "Status : ACTIVE \n",
      "Messages 3 \n",
      "--------------------------------------------------\n",
      "\n"
     ]
    }
   ],
   "source": [
    "messaging_service.load_from_file()"
   ]
  },
  {
   "cell_type": "code",
   "execution_count": 8,
   "id": "14dd7eaf",
   "metadata": {},
   "outputs": [],
   "source": [
    "## Identify the conctact you want to interact with\n",
    "loaded_contact_id = \"f0b85c02-4560-42d3-8439-92efb6c53424\""
   ]
  },
  {
   "cell_type": "code",
   "execution_count": 11,
   "id": "0bc4ca97",
   "metadata": {},
   "outputs": [
    {
     "name": "stdout",
     "output_type": "stream",
     "text": [
      "----------------------------------------------------------------------------------------------------\n",
      "Inbox for Contact Demo Participant\n",
      "----------------------------------------------------------------------------------------------------\n",
      "Connection ID : f0b85c02-4560-42d3-8439-92efb6c53424 \n",
      "Agent Label : None \n",
      "Total Messages : 4\n",
      "----------------------------------------------------------------------------------------------------\n",
      "Received                                                                              Sent\n",
      "----------------------------------------------------------------------------------------------------\n",
      "Tue Jun  8 07:55:46 2021\n",
      "Hey how are you, want to grab a coffee? \n",
      "----------------------------------------------------------------------------------------------------\n",
      "Tue Jun  8 07:55:50 2021\n",
      "Hey how are you, want to grab a coffee? \n",
      "----------------------------------------------------------------------------------------------------\n",
      "Tue Jun  8 07:55:53 2021\n",
      "                                                                                              Hello \n",
      "----------------------------------------------------------------------------------------------------\n",
      "Tue Jun  8 08:00:56 2021\n",
      "                                                  Hey, I just reloaded my state. Hope I can still send \n",
      "                                                                                      you messages! \n",
      "----------------------------------------------------------------------------------------------------\n"
     ]
    }
   ],
   "source": [
    "messaging_service.display_inbox_for_contact(loaded_contact_id)"
   ]
  },
  {
   "cell_type": "code",
   "execution_count": 10,
   "id": "f1cf6818",
   "metadata": {},
   "outputs": [],
   "source": [
    "message = \"Hey, I just reloaded my state. Hope I can still send you messages!\"\n",
    "messaging_service.send_message(loaded_contact_id, message)"
   ]
  },
  {
   "cell_type": "markdown",
   "id": "5fde7c2a",
   "metadata": {},
   "source": [
    "## Optional - Configure Mediator"
   ]
  },
  {
   "cell_type": "code",
   "execution_count": null,
   "id": "bb27f408",
   "metadata": {},
   "outputs": [],
   "source": [
    "mediator_invite = {'@type': 'did:sov:BzCbsNYhMrjHiqZDTUASHg;spec/connections/1.0/invitation', '@id': 'bb47c3ea-ab9a-4ef4-984d-409cb4909956', 'recipientKeys': ['HkwRkbCGEXn4LviXNen5f8kqQ1WxVRpQQGxaQG7PuSZD'], 'serviceEndpoint': 'http://139.162.224.50:6666', 'label': 'HGF_ACA_Playground_Mediator'}"
   ]
  },
  {
   "cell_type": "code",
   "execution_count": null,
   "id": "7e3f79c4",
   "metadata": {},
   "outputs": [],
   "source": [
    "invitation_response = await agent_controller.connections.receive_invitation(mediator_invite)"
   ]
  },
  {
   "cell_type": "code",
   "execution_count": null,
   "id": "8156bbc2",
   "metadata": {},
   "outputs": [],
   "source": [
    "connection_id = invitation_response[\"connection_id\"]\n",
    "### check state of connection\n",
    "connection = await agent_controller.connections.get_connection(connection_id)\n",
    "\n",
    "# Let's check for the state\n",
    "if connection['state'] != 'active':\n",
    "    print(\"No active connection. \\n Please go back and ensure you have established an active connection\")    \n",
    "else:\n",
    "    ## request mediation\n",
    "    mediation_req = await agent_controller.mediation.request_mediation(connection_id)\n",
    "    "
   ]
  },
  {
   "cell_type": "code",
   "execution_count": null,
   "id": "2e730a1e",
   "metadata": {},
   "outputs": [],
   "source": [
    "### To have a look at the mediation records and we should see our mediation in there\n",
    "records_response = await agent_controller.mediation.get_mediation_records()\n",
    "print(f\"State : {records_response[0]['state']}\")"
   ]
  },
  {
   "cell_type": "code",
   "execution_count": null,
   "id": "6367bd15",
   "metadata": {},
   "outputs": [],
   "source": [
    "default_mediation_res = await agent_controller.mediation.set_default_mediator(records_response[0]['mediation_id'])\n",
    "print(default_mediation_res)"
   ]
  },
  {
   "cell_type": "markdown",
   "id": "8fcc0d9d",
   "metadata": {},
   "source": [
    "## Add New Contacts"
   ]
  },
  {
   "cell_type": "markdown",
   "id": "b3fa659d",
   "metadata": {},
   "source": [
    "### Either Create an Invitation and Share"
   ]
  },
  {
   "cell_type": "code",
   "execution_count": null,
   "id": "9ca76a52",
   "metadata": {},
   "outputs": [],
   "source": [
    "alias = \"Demo Participant\"\n",
    "response = messaging_service.new_contact_invite(alias)\n",
    "\n",
    "# If you want to display as Q.R for example\n",
    "invitation = response[\"invitation\"]\n",
    "\n",
    "new_contact_id = response[\"connection_id\"]"
   ]
  },
  {
   "cell_type": "markdown",
   "id": "5f398e76",
   "metadata": {},
   "source": [
    "### Or Add Contact using Invitation You have been sent"
   ]
  },
  {
   "cell_type": "code",
   "execution_count": null,
   "id": "234c5d7c",
   "metadata": {},
   "outputs": [],
   "source": [
    "invitation = {\"@type\": \"did:sov:BzCbsNYhMrjHiqZDTUASHg;spec/connections/1.0/invitation\", \"@id\": \"79690dce-73e8-40fe-943d-212771bfce94\", \"recipientKeys\": [\"GjM12SGxGiyN4TJ3XLda8AjNUPSxsS8byDnfN4Uvpv5H\"], \"serviceEndpoint\": \"http://139.162.224.50:6666\", \"routingKeys\": [\"BQKTbHwJap7Su9ZtkBJgqnHEAQt4ysjygBkAEjEngMfp\"], \"label\": \"<Label YOUR Agent>\"}"
   ]
  },
  {
   "cell_type": "code",
   "execution_count": null,
   "id": "128b9493",
   "metadata": {},
   "outputs": [],
   "source": [
    "new_contact_id = messaging_service.accept_contact_invitation(invitation, \"Demo Participant\")"
   ]
  },
  {
   "cell_type": "markdown",
   "id": "8123229c",
   "metadata": {},
   "source": [
    "## Send Message"
   ]
  },
  {
   "cell_type": "code",
   "execution_count": null,
   "id": "63c685b0",
   "metadata": {},
   "outputs": [],
   "source": [
    "some_arbitrary_sized_message = \"Hello\"\n",
    "messaging_service.send_message(new_contact_id, some_arbitrary_sized_message)"
   ]
  },
  {
   "cell_type": "code",
   "execution_count": 6,
   "id": "7f4c3637",
   "metadata": {},
   "outputs": [
    {
     "ename": "NameError",
     "evalue": "name 'new_contact_id' is not defined",
     "output_type": "error",
     "traceback": [
      "\u001b[0;31m---------------------------------------------------------------------------\u001b[0m",
      "\u001b[0;31mNameError\u001b[0m                                 Traceback (most recent call last)",
      "\u001b[0;32m<ipython-input-6-118a44e5c4aa>\u001b[0m in \u001b[0;36m<module>\u001b[0;34m\u001b[0m\n\u001b[0;32m----> 1\u001b[0;31m \u001b[0mmessaging_service\u001b[0m\u001b[0;34m.\u001b[0m\u001b[0mdisplay_inbox_for_contact\u001b[0m\u001b[0;34m(\u001b[0m\u001b[0mnew_contact_id\u001b[0m\u001b[0;34m)\u001b[0m\u001b[0;34m\u001b[0m\u001b[0;34m\u001b[0m\u001b[0m\n\u001b[0m",
      "\u001b[0;31mNameError\u001b[0m: name 'new_contact_id' is not defined"
     ]
    }
   ],
   "source": [
    "messaging_service.display_inbox_for_contact(new_contact_id)"
   ]
  },
  {
   "cell_type": "code",
   "execution_count": null,
   "id": "23ceaabf",
   "metadata": {},
   "outputs": [],
   "source": [
    "messaging_service.save_to_file()"
   ]
  },
  {
   "cell_type": "code",
   "execution_count": null,
   "id": "b74d39e3",
   "metadata": {},
   "outputs": [],
   "source": []
  },
  {
   "cell_type": "markdown",
   "id": "cd614991",
   "metadata": {},
   "source": [
    "## Terminate Controller\n",
    "\n",
    "Whenever you have finished with this notebook, be sure to terminate the controller. This is especially important if your business logic runs across multiple notebooks."
   ]
  },
  {
   "cell_type": "code",
   "execution_count": null,
   "id": "f8aae229",
   "metadata": {},
   "outputs": [],
   "source": [
    "await agent_controller.terminate()"
   ]
  }
 ],
 "metadata": {
  "kernelspec": {
   "display_name": "Python 3",
   "language": "python",
   "name": "python3"
  },
  "language_info": {
   "codemirror_mode": {
    "name": "ipython",
    "version": 3
   },
   "file_extension": ".py",
   "mimetype": "text/x-python",
   "name": "python",
   "nbconvert_exporter": "python",
   "pygments_lexer": "ipython3",
   "version": "3.8.5"
  }
 },
 "nbformat": 4,
 "nbformat_minor": 5
}
