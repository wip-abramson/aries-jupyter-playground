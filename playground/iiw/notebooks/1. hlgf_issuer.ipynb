{
 "cells": [
  {
   "cell_type": "markdown",
   "id": "9f45932c",
   "metadata": {},
   "source": [
    "# ACA-Py & ACC-Py Basic Template\n",
    "\n",
    "## Copy this template into the root folder of your notebook workspace to get started"
   ]
  },
  {
   "cell_type": "markdown",
   "id": "0b598174",
   "metadata": {},
   "source": [
    "### Imports"
   ]
  },
  {
   "cell_type": "code",
   "execution_count": 1,
   "id": "db5f9c28",
   "metadata": {},
   "outputs": [],
   "source": [
    "from aries_cloudcontroller import AriesAgentController\n",
    "import os\n",
    "import asyncio\n",
    "import nest_asyncio\n",
    "from termcolor import colored\n",
    "\n",
    "nest_asyncio.apply()"
   ]
  },
  {
   "cell_type": "markdown",
   "id": "b5b4c3cb",
   "metadata": {},
   "source": [
    "### Initialise the Agent Controller"
   ]
  },
  {
   "cell_type": "code",
   "execution_count": 2,
   "id": "27e47578",
   "metadata": {},
   "outputs": [
    {
     "name": "stdout",
     "output_type": "stream",
     "text": [
      "Initialising a controller with admin api at http://iiw-agent:3021 and an api key of adminApiKey\n"
     ]
    }
   ],
   "source": [
    "api_key = os.getenv(\"ACAPY_ADMIN_API_KEY\")\n",
    "admin_url = os.getenv(\"ADMIN_URL\")\n",
    "\n",
    "print(f\"Initialising a controller with admin api at {admin_url} and an api key of {api_key}\")\n",
    "agent_controller = AriesAgentController(admin_url,api_key)"
   ]
  },
  {
   "cell_type": "markdown",
   "id": "1aedf56d",
   "metadata": {},
   "source": [
    "### Start a Webhook Server"
   ]
  },
  {
   "cell_type": "code",
   "execution_count": 3,
   "id": "43fb2f01",
   "metadata": {},
   "outputs": [
    {
     "name": "stdout",
     "output_type": "stream",
     "text": [
      "Listening for webhooks from agent at http://0.0.0.0:3010\n"
     ]
    }
   ],
   "source": [
    "webhook_port = int(os.getenv(\"WEBHOOK_PORT\"))\n",
    "webhook_host = \"0.0.0.0\"\n",
    "\n",
    "await agent_controller.init_webhook_server(webhook_host, webhook_port)\n",
    "\n",
    "print(f\"Listening for webhooks from agent at http://{webhook_host}:{webhook_port}\")"
   ]
  },
  {
   "cell_type": "markdown",
   "id": "ffeadc8b",
   "metadata": {},
   "source": [
    "## Store Issuing Schema and Cred Def Identifiers\n",
    "\n",
    "If you intend for this agent to issue credentials you should first initialise your agent as an issuer and author the relevant identifiers to the public ledger. The issuer_initialisation recipe notebook can be duplicated and used as a starting point.\n",
    "\n",
    "Once schema and cred def identifiers are created copy across and store in variables as illustrated in the cell below. Be sure to use unique names for each variable."
   ]
  },
  {
   "cell_type": "code",
   "execution_count": 4,
   "id": "dc621797",
   "metadata": {},
   "outputs": [],
   "source": [
    "schema_id='84j4TQBmap9C1C7qXAs6M5:2:Aries Jupyter Playground Demo Participation:0.0.1'\n",
    "cred_def_id='84j4TQBmap9C1C7qXAs6M5:3:CL:6734:default'\n",
    "\n",
    "\n",
    "\n",
    "# %store schema_id\n",
    "# %store <cred_def_id>"
   ]
  },
  {
   "cell_type": "markdown",
   "id": "d9a3d7ad",
   "metadata": {},
   "source": [
    "## Create Multi-Use Invite\n",
    "\n",
    "Before you can issue a credential you must first establish a connection across which the credential will be issued to a holder. (see recipes/connection)"
   ]
  },
  {
   "cell_type": "code",
   "execution_count": 5,
   "id": "6f992c5d",
   "metadata": {},
   "outputs": [
    {
     "name": "stdout",
     "output_type": "stream",
     "text": [
      "CVy6S2terKnzhRqnyZNwn4ejpignAmZRzJyG4h6rNZQC\n"
     ]
    }
   ],
   "source": [
    "# Alias for invited connection\n",
    "alias = \"Participant\"\n",
    "auto_accept = \"true\"\n",
    "# Use public DID?\n",
    "public = \"false\"\n",
    "# Should this invitation be usable by multiple invitees?\n",
    "multi_use = \"true\"\n",
    "\n",
    "multi_use_invite_response = await agent_controller.connections.create_invitation(alias, auto_accept, public, multi_use)\n",
    "# Is equivalent to above. Arguments are optionally\n",
    "# invitation_response = await agent_controller.connections.create_invitation()\n",
    "\n",
    "\n",
    "multi_use_invititation_key = multi_use_invite_response[\"invitation\"][\"recipientKeys\"][0]\n",
    "\n",
    "print(multi_use_invititation_key)"
   ]
  },
  {
   "cell_type": "markdown",
   "id": "8e436cfb",
   "metadata": {},
   "source": [
    "## Register Agent Event Listeners\n",
    "\n",
    "You can see some examples within the webhook_listeners recipe. Copy any relevant cells across and fill in additional logic as needed."
   ]
  },
  {
   "cell_type": "code",
   "execution_count": 6,
   "id": "4599f11e",
   "metadata": {},
   "outputs": [],
   "source": [
    "listeners = []"
   ]
  },
  {
   "cell_type": "code",
   "execution_count": 7,
   "id": "2e2d4dfe",
   "metadata": {},
   "outputs": [],
   "source": [
    "import time\n",
    "\n",
    "## YOUR LISTENERS HERE\n",
    "# Receive connection messages\n",
    "def connections_handler(payload):\n",
    "    state = payload['state']\n",
    "    connection_id = payload[\"connection_id\"]\n",
    "    their_role = payload[\"their_role\"]\n",
    "    routing_state = payload[\"routing_state\"]\n",
    "    \n",
    "    print(\"----------------------------------------------------------\")\n",
    "    print(\"Connection Webhook Event Received\")\n",
    "    print(\"Connection ID : \", connection_id)\n",
    "    print(\"State : \", state)\n",
    "    print(\"Routing State : \", routing_state)\n",
    "    print(\"Their Role : \", their_role)\n",
    "    print(\"----------------------------------------------------------\")\n",
    "    \n",
    "    print(payload)\n",
    "    loop = asyncio.get_event_loop()\n",
    "\n",
    "    if state == \"response\":\n",
    "        time.sleep(2)\n",
    "        loop.run_until_complete(agent_controller.messaging.trust_ping(connection_id))\n",
    "        \n",
    "    if state == \"active\":\n",
    "        # Your business logic\n",
    "        invitation_key = payload[\"invitation_key\"]\n",
    "        their_lablel = payload[\"their_label\"]\n",
    "        print(invitation_key)\n",
    "        if invitation_key == multi_use_invititation_key:\n",
    "            event_name = \"Internet Identity Workshop Oct 2021\"\n",
    "            issue_date= date.today().isoformat()\n",
    "            credential_attributes = [\n",
    "                {\"name\": \"Event Name\", \"value\": event_name},\n",
    "                {\"name\": \"Participant\", \"value\": their_lablel},\n",
    "                {\"name\": \"Description\", \"value\": \"Thank you for attending the Aries Jupyter Playground demo at HGF 2021\"},\n",
    "                {\"name\": \"Date\", \"value\": issue_date}\n",
    "            ]\n",
    "            \n",
    "            # Do you want the ACA-Py instance to trace it's processes (for testing/timing analysis)\n",
    "            trace = False\n",
    "            comment = \"\"\n",
    "            # Remove credential record after issued?\n",
    "            auto_remove = True\n",
    "\n",
    "            # Change <schema_id> and <cred_def_id> to correct pair. Cred_def_id must identify a definition to which your agent has corresponding private issuing key.\n",
    "            loop.run_until_complete(agent_controller.issuer.send_credential(connection_id, schema_id, cred_def_id, credential_attributes, comment, auto_remove, trace))\n",
    "        print(colored(\"Connection ID: {0} is now active.\".format(connection_id), \"green\", attrs=[\"bold\"]))\n",
    "\n",
    "connection_listener = {\n",
    "    \"handler\": connections_handler,\n",
    "    \"topic\": \"connections\"\n",
    "}\n",
    "\n",
    "listeners.append(connection_listener)"
   ]
  },
  {
   "cell_type": "code",
   "execution_count": 8,
   "id": "1f8da98c",
   "metadata": {},
   "outputs": [],
   "source": [
    "from datetime import date\n",
    "\n",
    "def issuer_handler(payload):\n",
    "    connection_id = payload['connection_id']\n",
    "    exchange_id = payload['credential_exchange_id']\n",
    "    state = payload['state']\n",
    "    role = payload['role']\n",
    "    print(\"\\n---------------------------------------------------\\n\")\n",
    "    print(\"Handle Issue Credential Webhook\")\n",
    "    print(f\"Connection ID : {connection_id}\")\n",
    "    print(f\"Credential exchange ID : {exchange_id}\")\n",
    "    print(\"Agent Protocol Role : \", role)\n",
    "    print(\"Protocol State : \", state )\n",
    "    print(\"\\n---------------------------------------------------\\n\")\n",
    "    loop = asyncio.get_event_loop()\n",
    "    if state == \"proposal_received\":\n",
    "        print(f'Proposal Comment : {payload[\"credential_proposal_dict\"][\"comment\"]}')\n",
    "        proposed_cred_def_id = payload[\"credential_proposal_dict\"][\"cred_def_id\"]\n",
    "        proposed_schema_id = payload[\"credential_proposal_dict\"][\"schema_id\"]\n",
    "        \n",
    "        if proposed_cred_def_id == cred_def_id and proposed_schema_id == schema_id:\n",
    "            for attribute in payload[\"credential_proposal_dict\"][\"credential_proposal\"][\"attributes\"]:\n",
    "                if attribute[\"name\"] == \"Participant\":\n",
    "                    participant = attribute[\"value\"]\n",
    "                elif attribute[\"name\"] == \"Description\":\n",
    "                    description = attribute[\"value\"]\n",
    "                    description += \"\\n Thanks for attending!\"\n",
    "\n",
    "\n",
    "            event_name = \"Hyperledger Global Forum 2021\"\n",
    "            issue_date= date.today().isoformat()\n",
    "            credential_attributes = [\n",
    "                {\"name\": \"Event Name\", \"value\": event_name},\n",
    "                {\"name\": \"Participant\", \"value\": participant},\n",
    "                {\"name\": \"Description\", \"value\": description},\n",
    "                {\"name\": \"Date\", \"value\": issue_date}\n",
    "            ]\n",
    "\n",
    "            print(credential_attributes)\n",
    "\n",
    "            # Do you want the ACA-Py instance to trace it's processes (for testing/timing analysis)\n",
    "            trace = False\n",
    "            comment = \"\"\n",
    "            # Remove credential record after issued?\n",
    "            auto_remove = True\n",
    "\n",
    "            # Change <schema_id> and <cred_def_id> to correct pair. Cred_def_id must identify a definition to which your agent has corresponding private issuing key.\n",
    "            loop.run_until_complete(agent_controller.issuer.send_credential(connection_id, schema_id, cred_def_id, credential_attributes, comment, auto_remove, trace))\n",
    "        else:\n",
    "            explaination = \"You have not referenced the correct schema and credential definitions\"\n",
    "            loop.run_until_complete(agent_controller.issuer.send_problem_report(exchange_id, explaination))\n",
    "        \n",
    "    \n",
    "    elif state == \"offer_sent\":\n",
    "        proposal = payload[\"credential_proposal_dict\"]\n",
    "        attributes = proposal['credential_proposal']['attributes']\n",
    "\n",
    "        print(f\"Offering credential with attributes  : {attributes}\")\n",
    "        ## YOUR LOGIC HERE\n",
    "    elif state == \"request_received\":\n",
    "        print(\"Request for credential received\")\n",
    "        ## YOUR LOGIC HERE\n",
    "    elif state == \"credential_sent\":\n",
    "        print(\"Credential Sent\")\n",
    "        ## YOUR LOGIC HERE\n",
    "    \n",
    "issuer_listener = {\n",
    "    \"topic\": \"issue_credential\",\n",
    "    \"handler\": issuer_handler\n",
    "}\n",
    "\n",
    "listeners.append(issuer_listener)"
   ]
  },
  {
   "cell_type": "code",
   "execution_count": 9,
   "id": "e986ad78",
   "metadata": {},
   "outputs": [],
   "source": [
    "agent_controller.register_listeners(listeners)"
   ]
  },
  {
   "cell_type": "markdown",
   "id": "4dd2cf47",
   "metadata": {},
   "source": [
    "## Share Invitation Object with External Agent"
   ]
  },
  {
   "cell_type": "code",
   "execution_count": 10,
   "id": "49a89071",
   "metadata": {},
   "outputs": [
    {
     "name": "stdout",
     "output_type": "stream",
     "text": [
      "{'@type': 'did:sov:BzCbsNYhMrjHiqZDTUASHg;spec/connections/1.0/invitation', '@id': 'a283e8cf-bed7-420a-b8f8-8548a2aec1bd', 'serviceEndpoint': 'http://9119-86-18-68-143.ngrok.io', 'recipientKeys': ['CVy6S2terKnzhRqnyZNwn4ejpignAmZRzJyG4h6rNZQC'], 'label': 'Internet Identity Workshop'}\n",
      "----------------------------------------------------------\n",
      "Connection Webhook Event Received\n",
      "Connection ID :  2f00aae9-ff73-4e58-8c14-3ea054240f6f\n",
      "State :  invitation\n",
      "Routing State :  none\n",
      "Their Role :  invitee\n",
      "----------------------------------------------------------\n",
      "{'rfc23_state': 'invitation-sent', 'state': 'invitation', 'routing_state': 'none', 'accept': 'auto', 'invitation_key': 'CVy6S2terKnzhRqnyZNwn4ejpignAmZRzJyG4h6rNZQC', 'my_did': 'WJ9rq73mDLrWtgxpkUv271', 'connection_protocol': 'connections/1.0', 'created_at': '2021-10-12 09:57:36.156750Z', 'their_role': 'invitee', 'invitation_mode': 'once', 'updated_at': '2021-10-12 09:57:36.156750Z', 'connection_id': '2f00aae9-ff73-4e58-8c14-3ea054240f6f'}\n",
      "----------------------------------------------------------\n",
      "Connection Webhook Event Received\n",
      "Connection ID :  2f00aae9-ff73-4e58-8c14-3ea054240f6f\n",
      "State :  request\n",
      "Routing State :  none\n",
      "Their Role :  invitee\n",
      "----------------------------------------------------------\n",
      "{'rfc23_state': 'request-received', 'state': 'request', 'their_label': '<Label YOUR Agent>', 'their_did': 'XJgp6SXQ2rGYc3AnVXaeDZ', 'routing_state': 'none', 'accept': 'auto', 'invitation_key': 'CVy6S2terKnzhRqnyZNwn4ejpignAmZRzJyG4h6rNZQC', 'my_did': 'WJ9rq73mDLrWtgxpkUv271', 'connection_protocol': 'connections/1.0', 'created_at': '2021-10-12 09:57:36.156750Z', 'their_role': 'invitee', 'invitation_mode': 'once', 'updated_at': '2021-10-12 09:57:36.192154Z', 'connection_id': '2f00aae9-ff73-4e58-8c14-3ea054240f6f'}\n",
      "----------------------------------------------------------\n",
      "Connection Webhook Event Received\n",
      "Connection ID :  2f00aae9-ff73-4e58-8c14-3ea054240f6f\n",
      "State :  response\n",
      "Routing State :  none\n",
      "Their Role :  invitee\n",
      "----------------------------------------------------------\n",
      "{'rfc23_state': 'response-sent', 'state': 'response', 'their_label': '<Label YOUR Agent>', 'their_did': 'XJgp6SXQ2rGYc3AnVXaeDZ', 'routing_state': 'none', 'accept': 'auto', 'invitation_key': 'CVy6S2terKnzhRqnyZNwn4ejpignAmZRzJyG4h6rNZQC', 'my_did': 'WJ9rq73mDLrWtgxpkUv271', 'connection_protocol': 'connections/1.0', 'created_at': '2021-10-12 09:57:36.156750Z', 'their_role': 'invitee', 'invitation_mode': 'once', 'updated_at': '2021-10-12 09:57:36.215643Z', 'connection_id': '2f00aae9-ff73-4e58-8c14-3ea054240f6f'}\n",
      "----------------------------------------------------------\n",
      "Connection Webhook Event Received\n",
      "Connection ID :  2f00aae9-ff73-4e58-8c14-3ea054240f6f\n",
      "State :  active\n",
      "Routing State :  none\n",
      "Their Role :  invitee\n",
      "----------------------------------------------------------\n",
      "{'rfc23_state': 'completed', 'state': 'active', 'their_label': '<Label YOUR Agent>', 'their_did': 'XJgp6SXQ2rGYc3AnVXaeDZ', 'routing_state': 'none', 'accept': 'auto', 'invitation_key': 'CVy6S2terKnzhRqnyZNwn4ejpignAmZRzJyG4h6rNZQC', 'my_did': 'WJ9rq73mDLrWtgxpkUv271', 'connection_protocol': 'connections/1.0', 'created_at': '2021-10-12 09:57:36.156750Z', 'their_role': 'invitee', 'invitation_mode': 'once', 'updated_at': '2021-10-12 09:57:36.855886Z', 'connection_id': '2f00aae9-ff73-4e58-8c14-3ea054240f6f'}\n",
      "CVy6S2terKnzhRqnyZNwn4ejpignAmZRzJyG4h6rNZQC\n",
      "\u001b[1m\u001b[32mConnection ID: 2f00aae9-ff73-4e58-8c14-3ea054240f6f is now active.\u001b[0m\n",
      "\n",
      "---------------------------------------------------\n",
      "\n",
      "Handle Issue Credential Webhook\n",
      "Connection ID : 2f00aae9-ff73-4e58-8c14-3ea054240f6f\n",
      "Credential exchange ID : c7d33886-3a27-4a22-bce0-a423d01c113d\n",
      "Agent Protocol Role :  issuer\n",
      "Protocol State :  offer_sent\n",
      "\n",
      "---------------------------------------------------\n",
      "\n",
      "Offering credential with attributes  : [{'name': 'Event Name', 'value': 'Hyperledger Global Forum 2021'}, {'name': 'Participant', 'value': '<Label YOUR Agent>'}, {'name': 'Description', 'value': 'Thank you for attending the Aries Jupyter Playground demo at HGF 2021'}, {'name': 'Date', 'value': '2021-10-12'}]\n",
      "\n",
      "---------------------------------------------------\n",
      "\n",
      "Handle Issue Credential Webhook\n",
      "Connection ID : 2f00aae9-ff73-4e58-8c14-3ea054240f6f\n",
      "Credential exchange ID : d305b9a5-3942-40bc-b1ff-e534b83c5a57\n",
      "Agent Protocol Role :  issuer\n",
      "Protocol State :  proposal_received\n",
      "\n",
      "---------------------------------------------------\n",
      "\n",
      "Proposal Comment : Please can you issue me this\n",
      "[{'name': 'Event Name', 'value': 'Hyperledger Global Forum 2021'}, {'name': 'Participant', 'value': 'Wip'}, {'name': 'Description', 'value': 'this is great\\n Thanks for attending!'}, {'name': 'Date', 'value': '2021-10-12'}]\n",
      "\n",
      "---------------------------------------------------\n",
      "\n",
      "Handle Issue Credential Webhook\n",
      "Connection ID : 2f00aae9-ff73-4e58-8c14-3ea054240f6f\n",
      "Credential exchange ID : 85594a65-8b6a-4119-acc9-d87eccbb8486\n",
      "Agent Protocol Role :  issuer\n",
      "Protocol State :  offer_sent\n",
      "\n",
      "---------------------------------------------------\n",
      "\n",
      "Offering credential with attributes  : [{'name': 'Event Name', 'value': 'Hyperledger Global Forum 2021'}, {'name': 'Participant', 'value': 'Wip'}, {'name': 'Description', 'value': 'this is great\\n Thanks for attending!'}, {'name': 'Date', 'value': '2021-10-12'}]\n",
      "\n",
      "---------------------------------------------------\n",
      "\n",
      "Handle Issue Credential Webhook\n",
      "Connection ID : 2f00aae9-ff73-4e58-8c14-3ea054240f6f\n",
      "Credential exchange ID : 85594a65-8b6a-4119-acc9-d87eccbb8486\n",
      "Agent Protocol Role :  issuer\n",
      "Protocol State :  request_received\n",
      "\n",
      "---------------------------------------------------\n",
      "\n",
      "Request for credential received\n",
      "\n",
      "---------------------------------------------------\n",
      "\n",
      "Handle Issue Credential Webhook\n",
      "Connection ID : 2f00aae9-ff73-4e58-8c14-3ea054240f6f\n",
      "Credential exchange ID : 85594a65-8b6a-4119-acc9-d87eccbb8486\n",
      "Agent Protocol Role :  issuer\n",
      "Protocol State :  credential_issued\n",
      "\n",
      "---------------------------------------------------\n",
      "\n",
      "\n",
      "---------------------------------------------------\n",
      "\n",
      "Handle Issue Credential Webhook\n",
      "Connection ID : 2f00aae9-ff73-4e58-8c14-3ea054240f6f\n",
      "Credential exchange ID : 85594a65-8b6a-4119-acc9-d87eccbb8486\n",
      "Agent Protocol Role :  issuer\n",
      "Protocol State :  credential_acked\n",
      "\n",
      "---------------------------------------------------\n",
      "\n"
     ]
    }
   ],
   "source": [
    "invitation = multi_use_invite_response[\"invitation\"]\n",
    "## Copy this output\n",
    "print(invitation)"
   ]
  },
  {
   "cell_type": "markdown",
   "id": "e0e87800",
   "metadata": {},
   "source": [
    "## Display Invite as QR Code\n",
    "\n",
    "This is useful if you wish to issue a credential to a mobile wallet."
   ]
  },
  {
   "cell_type": "code",
   "execution_count": 11,
   "id": "6789555d",
   "metadata": {},
   "outputs": [
    {
     "data": {
      "image/png": "[encoded data removed]",
      "text/plain": [
       "<qrcode.image.pil.PilImage at 0x7f0162a713d0>"
      ]
     },
     "execution_count": 11,
     "metadata": {},
     "output_type": "execute_result"
    },
    {
     "name": "stdout",
     "output_type": "stream",
     "text": [
      "----------------------------------------------------------\n",
      "Connection Webhook Event Received\n",
      "Connection ID :  796c7e9a-4284-4216-b02c-ea6725d65222\n",
      "State :  invitation\n",
      "Routing State :  none\n",
      "Their Role :  invitee\n",
      "----------------------------------------------------------\n",
      "{'accept': 'auto', 'state': 'invitation', 'created_at': '2021-06-08 07:17:00.401845Z', 'rfc23_state': 'invitation-sent', 'invitation_key': 'GW4CrQbfmTAz7pzaLNsuMbHebZrF5xc7ThtDPSpThqVU', 'my_did': 'T8EzaoYGukyonbEXNWLQ8r', 'their_role': 'invitee', 'routing_state': 'none', 'updated_at': '2021-06-08 07:17:00.401845Z', 'connection_id': '796c7e9a-4284-4216-b02c-ea6725d65222', 'invitation_mode': 'once'}\n",
      "----------------------------------------------------------\n",
      "Connection Webhook Event Received\n",
      "Connection ID :  796c7e9a-4284-4216-b02c-ea6725d65222\n",
      "State :  request\n",
      "Routing State :  none\n",
      "Their Role :  invitee\n",
      "----------------------------------------------------------\n",
      "{'accept': 'auto', 'their_label': 'esatus Wallet', 'state': 'request', 'created_at': '2021-06-08 07:17:00.401845Z', 'rfc23_state': 'request-received', 'invitation_key': 'GW4CrQbfmTAz7pzaLNsuMbHebZrF5xc7ThtDPSpThqVU', 'my_did': 'T8EzaoYGukyonbEXNWLQ8r', 'their_role': 'invitee', 'routing_state': 'none', 'updated_at': '2021-06-08 07:17:00.420703Z', 'connection_id': '796c7e9a-4284-4216-b02c-ea6725d65222', 'invitation_mode': 'once', 'their_did': 'nJhtztcafpKZjM9D282hW'}\n",
      "----------------------------------------------------------\n",
      "Connection Webhook Event Received\n",
      "Connection ID :  796c7e9a-4284-4216-b02c-ea6725d65222\n",
      "State :  response\n",
      "Routing State :  none\n",
      "Their Role :  invitee\n",
      "----------------------------------------------------------\n",
      "{'accept': 'auto', 'their_label': 'esatus Wallet', 'state': 'response', 'created_at': '2021-06-08 07:17:00.401845Z', 'rfc23_state': 'response-sent', 'invitation_key': 'GW4CrQbfmTAz7pzaLNsuMbHebZrF5xc7ThtDPSpThqVU', 'my_did': 'T8EzaoYGukyonbEXNWLQ8r', 'their_role': 'invitee', 'routing_state': 'none', 'updated_at': '2021-06-08 07:17:00.439344Z', 'connection_id': '796c7e9a-4284-4216-b02c-ea6725d65222', 'invitation_mode': 'once', 'their_did': 'nJhtztcafpKZjM9D282hW'}\n",
      "----------------------------------------------------------\n",
      "Connection Webhook Event Received\n",
      "Connection ID :  796c7e9a-4284-4216-b02c-ea6725d65222\n",
      "State :  active\n",
      "Routing State :  none\n",
      "Their Role :  invitee\n",
      "----------------------------------------------------------\n",
      "{'accept': 'auto', 'their_label': 'esatus Wallet', 'state': 'active', 'created_at': '2021-06-08 07:17:00.401845Z', 'rfc23_state': 'completed', 'invitation_key': 'GW4CrQbfmTAz7pzaLNsuMbHebZrF5xc7ThtDPSpThqVU', 'my_did': 'T8EzaoYGukyonbEXNWLQ8r', 'their_role': 'invitee', 'routing_state': 'none', 'updated_at': '2021-06-08 07:17:04.039718Z', 'connection_id': '796c7e9a-4284-4216-b02c-ea6725d65222', 'invitation_mode': 'once', 'their_did': 'nJhtztcafpKZjM9D282hW'}\n",
      "GW4CrQbfmTAz7pzaLNsuMbHebZrF5xc7ThtDPSpThqVU\n",
      "\n",
      "---------------------------------------------------\n",
      "\n",
      "Handle Issue Credential Webhook\n",
      "Connection ID : 796c7e9a-4284-4216-b02c-ea6725d65222\n",
      "Credential exchange ID : 04fe14a9-0ef9-4a88-b711-9cd6e945dee3\n",
      "Agent Protocol Role :  issuer\n",
      "Protocol State :  offer_sent\n",
      "\n",
      "---------------------------------------------------\n",
      "\n",
      "Offering credential with attributes  : [{'name': 'Event Name', 'value': 'Hyperledger Global Forum 2021'}, {'name': 'Participant', 'value': 'esatus Wallet'}, {'name': 'Description', 'value': 'Thank you for attending the Aries Jupyter Playground demo at HGF 2021'}, {'name': 'Date', 'value': '2021-06-08'}]\n",
      "\u001b[1m\u001b[32mConnection ID: 796c7e9a-4284-4216-b02c-ea6725d65222 is now active.\u001b[0m\n",
      "\n",
      "---------------------------------------------------\n",
      "\n",
      "Handle Issue Credential Webhook\n",
      "Connection ID : 796c7e9a-4284-4216-b02c-ea6725d65222\n",
      "Credential exchange ID : 04fe14a9-0ef9-4a88-b711-9cd6e945dee3\n",
      "Agent Protocol Role :  issuer\n",
      "Protocol State :  request_received\n",
      "\n",
      "---------------------------------------------------\n",
      "\n",
      "Request for credential received\n",
      "\n",
      "---------------------------------------------------\n",
      "\n",
      "Handle Issue Credential Webhook\n",
      "Connection ID : 796c7e9a-4284-4216-b02c-ea6725d65222\n",
      "Credential exchange ID : 04fe14a9-0ef9-4a88-b711-9cd6e945dee3\n",
      "Agent Protocol Role :  issuer\n",
      "Protocol State :  credential_issued\n",
      "\n",
      "---------------------------------------------------\n",
      "\n"
     ]
    }
   ],
   "source": [
    "import qrcode\n",
    "# Link for connection invitation\n",
    "invitation_url = multi_use_invite_response[\"invitation_url\"]\n",
    "# Creating an instance of qrcode\n",
    "qr = qrcode.QRCode(\n",
    "        version=1,\n",
    "        box_size=5,\n",
    "        border=5)\n",
    "qr.add_data(invitation_url)\n",
    "qr.make(fit=True)\n",
    "img = qr.make_image(fill='black', back_color='white')\n",
    "img"
   ]
  },
  {
   "cell_type": "markdown",
   "id": "d8c20b6a",
   "metadata": {},
   "source": [
    "## Terminate Controller\n",
    "\n",
    "Whenever you have finished with this notebook, be sure to terminate the controller. This is especially important if your business logic runs across multiple notebooks."
   ]
  },
  {
   "cell_type": "code",
   "execution_count": 12,
   "id": "5d94f497",
   "metadata": {},
   "outputs": [],
   "source": [
    "await agent_controller.terminate()"
   ]
  },
  {
   "cell_type": "code",
   "execution_count": null,
   "id": "06db012c",
   "metadata": {},
   "outputs": [],
   "source": []
  }
 ],
 "metadata": {
  "kernelspec": {
   "display_name": "Python 3",
   "language": "python",
   "name": "python3"
  },
  "language_info": {
   "codemirror_mode": {
    "name": "ipython",
    "version": 3
   },
   "file_extension": ".py",
   "mimetype": "text/x-python",
   "name": "python",
   "nbconvert_exporter": "python",
   "pygments_lexer": "ipython3",
   "version": "3.8.5"
  }
 },
 "nbformat": 4,
 "nbformat_minor": 5
}
