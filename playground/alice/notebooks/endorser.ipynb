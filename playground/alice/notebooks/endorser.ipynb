{
 "cells": [
  {
   "cell_type": "markdown",
   "id": "5e0df8d4",
   "metadata": {},
   "source": [
    "# Initialising Your Agent as a Transaction Endorser\n",
    "\n",
    "This template walks you through the basic steps you need to take to configure your agent as an issuing authority on the Sovrin StagingNet. If using a different network you will need to update this template. The steps include:\n",
    "\n",
    "* Writing your DID to the Sovrin StagingNet\n",
    "* Accepting the Transaction Author Agreement\n",
    "\n",
    "It is recommended that this initialisation notebook be run **once**. If you are following the default docker-compose services then your agents wallet storage will be persisted in a postgres database as long as you run `./manage stop` rather than `./manage down`. \n",
    "\n"
   ]
  },
  {
   "cell_type": "markdown",
   "id": "41d04ed2",
   "metadata": {},
   "source": [
    "### Imports"
   ]
  },
  {
   "cell_type": "code",
   "execution_count": 1,
   "id": "3bc2bfaa",
   "metadata": {},
   "outputs": [],
   "source": [
    "from aries_cloudcontroller import AriesAgentController\n",
    "import os\n",
    "from termcolor import colored"
   ]
  },
  {
   "cell_type": "markdown",
   "id": "1e030cc0",
   "metadata": {},
   "source": [
    "### Initialise the Agent Controller"
   ]
  },
  {
   "cell_type": "code",
   "execution_count": 2,
   "id": "1640337c",
   "metadata": {},
   "outputs": [
    {
     "name": "stdout",
     "output_type": "stream",
     "text": [
      "Initialising a controller with admin api at http://alice-agent:3021 and an api key of adminApiKey\n"
     ]
    }
   ],
   "source": [
    "api_key = os.getenv(\"ACAPY_ADMIN_API_KEY\")\n",
    "admin_url = os.getenv(\"ADMIN_URL\")\n",
    "\n",
    "print(f\"Initialising a controller with admin api at {admin_url} and an api key of {api_key}\")\n",
    "agent_controller = AriesAgentController(admin_url,api_key)"
   ]
  },
  {
   "cell_type": "markdown",
   "id": "3fe86ed0",
   "metadata": {},
   "source": [
    "## Start Webhook Server"
   ]
  },
  {
   "cell_type": "code",
   "execution_count": 3,
   "id": "5f1b67cc",
   "metadata": {},
   "outputs": [
    {
     "name": "stdout",
     "output_type": "stream",
     "text": [
      "Listening for webhooks from agent at http://0.0.0.0:3010\n"
     ]
    }
   ],
   "source": [
    "webhook_port = int(os.getenv(\"WEBHOOK_PORT\"))\n",
    "webhook_host = \"0.0.0.0\"\n",
    "\n",
    "await agent_controller.init_webhook_server(webhook_host, webhook_port)\n",
    "\n",
    "print(f\"Listening for webhooks from agent at http://{webhook_host}:{webhook_port}\")"
   ]
  },
  {
   "cell_type": "code",
   "execution_count": 4,
   "id": "b2dbd41a",
   "metadata": {},
   "outputs": [],
   "source": [
    "listeners = []"
   ]
  },
  {
   "cell_type": "code",
   "execution_count": 5,
   "id": "c5fad4bd",
   "metadata": {},
   "outputs": [],
   "source": [
    "def transaction_handler(payload):\n",
    "    print(\"Transaction Handler\")\n",
    "    print(payload)\n",
    "    \n",
    "transaction_listener = {\n",
    "    \"topic\": \"transaction\",\n",
    "    \"handler\": transaction_handler\n",
    "\n",
    "}\n",
    "\n",
    "listeners.append(transaction_listener)"
   ]
  },
  {
   "cell_type": "code",
   "execution_count": 6,
   "id": "23c80a04",
   "metadata": {},
   "outputs": [],
   "source": [
    "# Receive connection messages\n",
    "def connections_handler(payload):\n",
    "    state = payload['state']\n",
    "    connection_id = payload[\"connection_id\"]\n",
    "    their_role = payload[\"their_role\"]\n",
    "    routing_state = payload[\"routing_state\"]\n",
    "    \n",
    "    print(\"----------------------------------------------------------\")\n",
    "    print(\"Connection Webhook Event Received\")\n",
    "    print(\"Connection ID : \", connection_id)\n",
    "    print(\"State : \", state)\n",
    "    print(\"Routing State : \", routing_state)\n",
    "    print(\"Their Role : \", their_role)\n",
    "    print(\"----------------------------------------------------------\")\n",
    "    if state == \"active\":\n",
    "        # Your business logic\n",
    "        print(colored(\"Connection ID: {0} is now active.\".format(connection_id), \"green\", attrs=[\"bold\"]))\n",
    "\n",
    "connection_listener = {\n",
    "    \"handler\": connections_handler,\n",
    "    \"topic\": \"connections\"\n",
    "}\n",
    "\n",
    "listeners.append(connection_listener)"
   ]
  },
  {
   "cell_type": "code",
   "execution_count": 7,
   "id": "bb460ed6",
   "metadata": {},
   "outputs": [],
   "source": [
    "agent_controller.register_listeners(listeners)"
   ]
  },
  {
   "cell_type": "markdown",
   "id": "cb29a7a3",
   "metadata": {},
   "source": [
    "## Write DID to the Public Ledger\n",
    "\n",
    "Note: if defined a ACAPY_WALLET_SEED value for your agent then this function will return a DID, but this DID still needs to be written to the ledger. If you did not define a seed you will need to create a DID first."
   ]
  },
  {
   "cell_type": "code",
   "execution_count": 8,
   "id": "a40ed1e1",
   "metadata": {},
   "outputs": [],
   "source": [
    "public_did_response = await agent_controller.wallet.get_public_did()"
   ]
  },
  {
   "cell_type": "code",
   "execution_count": 9,
   "id": "1ca9fed5",
   "metadata": {},
   "outputs": [
    {
     "name": "stdout",
     "output_type": "stream",
     "text": [
      "{'result': None}\n"
     ]
    }
   ],
   "source": [
    "print(public_did_response)"
   ]
  },
  {
   "cell_type": "code",
   "execution_count": 10,
   "id": "e17dd5cd",
   "metadata": {},
   "outputs": [
    {
     "name": "stdout",
     "output_type": "stream",
     "text": [
      "DID {'did': '7BVkD5QLC2MMLFGq2uoeU8', 'verkey': '4NPkfDupTDoJztTSg2Zw7jwKiXWSP9fpWcc7NgmLERvu', 'posture': 'wallet_only', 'key_type': 'ed25519', 'method': 'sov'}\n"
     ]
    }
   ],
   "source": [
    "if public_did_response[\"result\"]:\n",
    "    did_obj = public_did_response[\"result\"]\n",
    "else:\n",
    "    create_did_response = await agent_controller.wallet.create_did()\n",
    "    did_obj = create_did_response['result']\n",
    "print(\"DID\", did_obj)"
   ]
  },
  {
   "cell_type": "code",
   "execution_count": 11,
   "id": "58590989",
   "metadata": {},
   "outputs": [
    {
     "name": "stdout",
     "output_type": "stream",
     "text": [
      "{'statusCode': 200, 'headers': {'Access-Control-Allow-Origin': '*'}, 'body': '{\"statusCode\": 200, \"7BVkD5QLC2MMLFGq2uoeU8\": {\"status\": \"Success\", \"statusCode\": 200, \"reason\": \"Successfully wrote NYM identified by 7BVkD5QLC2MMLFGq2uoeU8 to the ledger with role ENDORSER\"}}'}\n"
     ]
    }
   ],
   "source": [
    "# write new DID to Sovrin Stagingnet\n",
    "import requests\n",
    "import json \n",
    "\n",
    "url = 'https://selfserve.sovrin.org/nym'\n",
    "\n",
    "payload = {\"network\":\"stagingnet\",\"did\": did_obj[\"did\"],\"verkey\":did_obj[\"verkey\"],\"paymentaddr\":\"\"}\n",
    "\n",
    "# Adding empty header as parameters are being sent in payload\n",
    "headers = {}\n",
    "\n",
    "r = requests.post(url, data=json.dumps(payload), headers=headers)\n",
    "print(r.json())"
   ]
  },
  {
   "cell_type": "markdown",
   "id": "d3f151ec",
   "metadata": {},
   "source": [
    "## Accept Transaction Author Agreement\n",
    "\n",
    "Although the Sovrin StagingNet is permissionless, before DID's have the authority to write to the ledger they must accept something called a transaction author agreement by signing it using the DID they have on the ledger.\n",
    "\n",
    "As a global public ledger, the Sovrin Ledger and all its participants are subject to privacy and data protection regulations such as the EU General Data Protection Regulation (GDPR). These regulations require that the participants be explicit about responsibilities for Personal Data.\n",
    "\n",
    "To clarify these responsibilities and provide protection for all parties, the Sovrin Governance Framework Working Group developed an agreement between Transaction Authors and the Sovrin Foundation. The TAA can be found at Sovrin.org. It ensures that users are aware of and consent to the fact that all data written to the Sovrin Ledger cannot be removed, even if the original author of the transaction requests its removal.\n",
    "\n",
    "The TAA outlines the policies that users must follow when interacting with the Sovrin Ledger. When a user’s client software is preparing a transaction for submission to the network, it must include a demonstration that the user had the opportunity to review the current TAA and accept it. This is done by including some additional fields in the ledger write transaction: \n",
    "\n",
    "* A hash of the agreement\n",
    "* A date when the agreement was accepted, and\n",
    "* A string indicating the user interaction that was followed to obtain the acceptance.\n",
    "\n",
    "The Indy client API used by Sovrin has been extended to allow users to review current and past agreements and to indicate acceptance through an approved user interaction pattern. - source: https://sovrin.org/preparing-for-the-sovrin-transaction-author-agreement/\n",
    "\n",
    "For more details on TAA please read more at the following links:\n",
    "* [Preparing for the Sovrin Transaction Author Agreement](https://sovrin.org/preparing-for-the-sovrin-transaction-author-agreement/)\n",
    "* [How the recent approval of the Sovrin Governance Framework v2 affects Transaction Authors\n",
    "](https://sovrin.org/how-the-recent-approval-of-the-sovrin-governance-framework-v2-affects-transaction-authors/)\n",
    "* [TAA v2](https://github.com/sovrin-foundation/sovrin/blob/master/TAA/TAA.md)\n",
    "* [TAA Acceptance Mechanism List (AML)](https://github.com/sovrin-foundation/sovrin/blob/master/TAA/AML.md)"
   ]
  },
  {
   "cell_type": "code",
   "execution_count": 12,
   "id": "1c23c018",
   "metadata": {},
   "outputs": [
    {
     "data": {
      "text/plain": [
       "{}"
      ]
     },
     "execution_count": 12,
     "metadata": {},
     "output_type": "execute_result"
    }
   ],
   "source": [
    "taa_response = await agent_controller.ledger.get_taa()\n",
    "TAA = taa_response['result']['taa_record']\n",
    "TAA['mechanism'] = \"service_agreement\"\n",
    "await agent_controller.ledger.accept_taa(TAA)"
   ]
  },
  {
   "cell_type": "markdown",
   "id": "1921f0e1",
   "metadata": {},
   "source": [
    "## Assign Agent Public DID if Not Set\n",
    "\n",
    "Will only be ran if ACAPY_WALLET_SEED not initially set."
   ]
  },
  {
   "cell_type": "code",
   "execution_count": 13,
   "id": "5dd91fc0",
   "metadata": {},
   "outputs": [
    {
     "name": "stdout",
     "output_type": "stream",
     "text": [
      "{'result': {'did': '7BVkD5QLC2MMLFGq2uoeU8', 'verkey': '4NPkfDupTDoJztTSg2Zw7jwKiXWSP9fpWcc7NgmLERvu', 'posture': 'wallet_only', 'key_type': 'ed25519', 'method': 'sov'}}\n",
      "Successfully intialised agent with Public DID :  7BVkD5QLC2MMLFGq2uoeU8\n"
     ]
    }
   ],
   "source": [
    "if did_obj[\"posture\"] != \"public\":\n",
    "    response = await agent_controller.wallet.assign_public_did(did_obj[\"did\"])\n",
    "    print(response)\n",
    "print(\"Successfully intialised agent with Public DID : \", did_obj[\"did\"])"
   ]
  },
  {
   "cell_type": "markdown",
   "id": "ea52f3e5",
   "metadata": {},
   "source": [
    "## Copy DID and Verkey from Author notebook\n",
    "\n",
    "The endorser then writes this DID to the ledger"
   ]
  },
  {
   "cell_type": "code",
   "execution_count": 14,
   "id": "f628e3b4",
   "metadata": {},
   "outputs": [],
   "source": [
    "did='MH4Kr2vuxWmoWzD3rAhCa7'\n",
    "verkey='C3zVTCJJWyPBobRsNYHyij6zRo2jdFJVGmZAtF2TY3ut'\n",
    "\n",
    "# Can be Trustee, Endorser etc.\n",
    "role=None\n",
    "alias=None\n",
    "\n",
    "response = await agent_controller.ledger.register_nym(did, verkey, role, alias)"
   ]
  },
  {
   "cell_type": "code",
   "execution_count": 15,
   "id": "ad79e2f3",
   "metadata": {},
   "outputs": [
    {
     "name": "stdout",
     "output_type": "stream",
     "text": [
      "{'success': True}\n"
     ]
    }
   ],
   "source": [
    "print(response)"
   ]
  },
  {
   "cell_type": "markdown",
   "id": "80c95f08",
   "metadata": {},
   "source": [
    "## Connect with Transaction Authors"
   ]
  },
  {
   "cell_type": "markdown",
   "id": "733ba667",
   "metadata": {},
   "source": [
    "## Create Invitation\n",
    "\n",
    "Note the current arguments specified are in their default configurations. "
   ]
  },
  {
   "cell_type": "code",
   "execution_count": 16,
   "id": "7b500c73",
   "metadata": {},
   "outputs": [
    {
     "name": "stdout",
     "output_type": "stream",
     "text": [
      "----------------------------------------------------------\n",
      "Connection Webhook Event Received\n",
      "Connection ID :  b6f3f239-6e20-45bb-a3b3-cbee9e31790c\n",
      "State :  invitation\n",
      "Routing State :  none\n",
      "Their Role :  invitee\n",
      "----------------------------------------------------------\n"
     ]
    }
   ],
   "source": [
    "# Alias for invited connection\n",
    "alias = None\n",
    "auto_accept = False\n",
    "# Use public DID?\n",
    "public = \"false\"\n",
    "# Should this invitation be usable by multiple invitees?\n",
    "multi_use = \"false\"\n",
    "\n",
    "invitation_response = await agent_controller.connections.create_invitation(alias, auto_accept, public, multi_use)\n",
    "# Is equivalent to above. Arguments are optionally\n",
    "# invitation_response = await agent_controller.connections.create_invitation()\n",
    "\n",
    "\n",
    "\n",
    "# You probably want to keep this somewhere so you can enage in other protocols with this connection.\n",
    "connection_id = invitation_response[\"connection_id\"]\n"
   ]
  },
  {
   "cell_type": "markdown",
   "id": "d79fb3e1",
   "metadata": {},
   "source": [
    "## Copy invitation to transaction author"
   ]
  },
  {
   "cell_type": "code",
   "execution_count": 18,
   "id": "00959d70",
   "metadata": {},
   "outputs": [
    {
     "name": "stdout",
     "output_type": "stream",
     "text": [
      "{'@type': 'did:sov:BzCbsNYhMrjHiqZDTUASHg;spec/connections/1.0/invitation', '@id': '3c3394f6-8705-4318-9858-a792ce7a471a', 'label': 'Alice', 'serviceEndpoint': 'http://975f9ceaca5e.ngrok.io', 'recipientKeys': ['FAKi9XEBgyFMA3L4eFXaVtgZri3cTSRQLSVBr9gi9zN3']}\n"
     ]
    }
   ],
   "source": [
    "print(invitation_response[\"invitation\"])"
   ]
  },
  {
   "cell_type": "markdown",
   "id": "244b149d",
   "metadata": {},
   "source": [
    "## Configure Transaction Role"
   ]
  },
  {
   "cell_type": "code",
   "execution_count": 19,
   "id": "b93a27ad",
   "metadata": {},
   "outputs": [],
   "source": [
    "transaction_my_job = \"TRANSACTION_ENDORSER\"\n",
    "response = await agent_controller.transactions.set_endorser_role(connection_id,transaction_my_job)"
   ]
  },
  {
   "cell_type": "markdown",
   "id": "7be2dec0",
   "metadata": {},
   "source": [
    "## Share Public DID with Author\n",
    "\n",
    "This would likely be known as part of a governance framework"
   ]
  },
  {
   "cell_type": "code",
   "execution_count": 20,
   "id": "ad5d691a",
   "metadata": {},
   "outputs": [
    {
     "name": "stdout",
     "output_type": "stream",
     "text": [
      "endorser_did=\"7BVkD5QLC2MMLFGq2uoeU8\"\n"
     ]
    }
   ],
   "source": [
    "response = await agent_controller.wallet.get_public_did()\n",
    "print(f'endorser_did=\"{response[\"result\"][\"did\"]}\"')"
   ]
  },
  {
   "cell_type": "code",
   "execution_count": 25,
   "id": "7112be20",
   "metadata": {},
   "outputs": [],
   "source": [
    "response = await agent_controller.transactions.get_all()\n",
    "\n",
    "# TODO Not just fetch first\n",
    "transaction_id = response[\"results\"][0][\"transaction_id\"]"
   ]
  },
  {
   "cell_type": "code",
   "execution_count": 26,
   "id": "abe290d7",
   "metadata": {},
   "outputs": [
    {
     "name": "stdout",
     "output_type": "stream",
     "text": [
      "{'state': 'transaction_acked', '_type': 'http://didcomm.org/sign-attachment/%VER/signature-response', 'created_at': '2021-07-09 16:41:56.020730Z', 'formats': [{'attach_id': 'f0614c99-554e-4d6a-9add-d3f4a5a58a2e', 'format': 'dif/endorse-transaction/request@v1.0'}], 'trace': False, 'signature_request': [{'context': 'did:sov', 'method': 'add-signature', 'signature_type': '<requested signature type>', 'signer_goal_code': 'transaction.endorse', 'author_goal_code': 'transaction.ledger.write'}], 'updated_at': '2021-07-09 16:45:39.399181Z', 'timing': {'expires_time': '2021-09-29T05:22:19Z'}, 'messages_attach': [{'@id': 'f0614c99-554e-4d6a-9add-d3f4a5a58a2e', 'mime-type': 'application/json', 'data': {'json': '{\"endorser\":\"7BVkD5QLC2MMLFGq2uoeU8\",\"identifier\":\"MH4Kr2vuxWmoWzD3rAhCa7\",\"operation\":{\"data\":{\"attr_names\":[\"data\"],\"name\":\"some schema\",\"version\":\"0.0.1\"},\"type\":\"101\"},\"protocolVersion\":2,\"reqId\":1625848632333366752,\"signatures\":{\"7BVkD5QLC2MMLFGq2uoeU8\":\"qyXjJu8HH7ShREreewBYyKcBr5h3MZbbmHPYMmBEy5gvaT41NVBEtGKFZUfWn3NPxNXoj27Pndh8NmcDG8dPXE8\",\"MH4Kr2vuxWmoWzD3rAhCa7\":\"4voKyQocmQMWQBsKsEF6pZx3xdYMwUNPLxKcK5ymszhQKqiurWhj2Ws6RqdMkzMErbMMX85qV55511QFA1riaEs1\"},\"taaAcceptance\":{\"mechanism\":\"service_agreement\",\"taaDigest\":\"8cee5d7a573e4893b08ff53a0761a22a1607df3b3fcd7e75b98696c92879641f\",\"time\":1625788800}}'}}], 'endorser_write_txn': True, 'signature_response': [{'message_id': 'f0614c99-554e-4d6a-9add-d3f4a5a58a2e', 'context': 'did:sov', 'method': 'add-signature', 'signer_goal_code': 'transaction.endorse', 'signature_type': '<requested signature type>', 'signature': {'7BVkD5QLC2MMLFGq2uoeU8': '{\"endorser\":\"7BVkD5QLC2MMLFGq2uoeU8\",\"identifier\":\"MH4Kr2vuxWmoWzD3rAhCa7\",\"operation\":{\"data\":{\"attr_names\":[\"data\"],\"name\":\"some schema\",\"version\":\"0.0.1\"},\"type\":\"101\"},\"protocolVersion\":2,\"reqId\":1625848632333366752,\"signatures\":{\"7BVkD5QLC2MMLFGq2uoeU8\":\"qyXjJu8HH7ShREreewBYyKcBr5h3MZbbmHPYMmBEy5gvaT41NVBEtGKFZUfWn3NPxNXoj27Pndh8NmcDG8dPXE8\",\"MH4Kr2vuxWmoWzD3rAhCa7\":\"4voKyQocmQMWQBsKsEF6pZx3xdYMwUNPLxKcK5ymszhQKqiurWhj2Ws6RqdMkzMErbMMX85qV55511QFA1riaEs1\"},\"taaAcceptance\":{\"mechanism\":\"service_agreement\",\"taaDigest\":\"8cee5d7a573e4893b08ff53a0761a22a1607df3b3fcd7e75b98696c92879641f\",\"time\":1625788800}}'}}], 'connection_id': 'b6f3f239-6e20-45bb-a3b3-cbee9e31790c', 'transaction_id': 'e8b080ce-1dc2-4694-b1ab-42d8f26437af', 'thread_id': 'b925e0e7-2e7f-4ae9-9eea-65fcacf00bab'}\n"
     ]
    }
   ],
   "source": [
    "response = await agent_controller.transactions.endorse_request(transaction_id)\n",
    "print(response)"
   ]
  },
  {
   "cell_type": "markdown",
   "id": "55dca251",
   "metadata": {},
   "source": [
    "## Terminate Controller\n"
   ]
  },
  {
   "cell_type": "code",
   "execution_count": null,
   "id": "ac46bd19",
   "metadata": {},
   "outputs": [],
   "source": [
    "await agent_controller.terminate()"
   ]
  },
  {
   "cell_type": "code",
   "execution_count": null,
   "id": "09749728",
   "metadata": {},
   "outputs": [],
   "source": []
  }
 ],
 "metadata": {
  "kernelspec": {
   "display_name": "Python 3",
   "language": "python",
   "name": "python3"
  },
  "language_info": {
   "codemirror_mode": {
    "name": "ipython",
    "version": 3
   },
   "file_extension": ".py",
   "mimetype": "text/x-python",
   "name": "python",
   "nbconvert_exporter": "python",
   "pygments_lexer": "ipython3",
   "version": "3.8.5"
  }
 },
 "nbformat": 4,
 "nbformat_minor": 5
}
