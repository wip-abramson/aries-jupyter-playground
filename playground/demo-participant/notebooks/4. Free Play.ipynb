{
 "cells": [
  {
   "cell_type": "markdown",
   "id": "1f7ce0eb",
   "metadata": {},
   "source": [
    "# Design Your Own Interaction Flows\n",
    "\n",
    "Check out the recipes folder for common interaction patterns. Note: if you are designing your own flows you may wish to run the playground using `./manage start` as it will give you two agents so you can test out your flows before moving into \"production\".\n",
    "\n",
    "Once you have a flow implemented in notebook cells, you might find it easier to encapsulate it within a class like the AuthenticationService or MessagingService. This helps to keep the notebook tidy and allows for more complicated interaction. If you decide to do this we recommend create another folder in libs to store your code. **We would love to see what you come up with. Feel free to submit a P.R. then other people will be able use your library too**\n",
    "\n",
    "Also, feel welcome to extend and modify the current libraries. They were knocked together pretty quickly to give some examples that show what is possible. I personally would like to see some save/load functionality in the messaging service, so you can terminate the docker containers using `./manage stop` and when you start them again you can rehydrate the messaging service and pick up where you left off."
   ]
  },
  {
   "cell_type": "markdown",
   "id": "df5e7edc",
   "metadata": {},
   "source": [
    "# You don't have to just use notebooks\n",
    "\n",
    "Notebooks are a great place to start to sketch out some ideas and experiment with possibilities, but eventually you want to turn your idea into a proper application. We have done this a couple of times, typically extracting functionality into a class then using the class within a full stack application. We have also stood up a server without a frontend to implement some basic issuance logic. This was used in Part 1. where you proposed and were issued an attendance credential from an agent running in the cloud. \n",
    "\n",
    "If your interested in this then these might be a useful place to start:\n",
    "\n",
    "* https://github.com/wip-abramson/aries-issuer-service\n",
    "* https://github.com/wip-abramson/aries-acapy-fullstack-starter\n",
    "\n"
   ]
  },
  {
   "cell_type": "markdown",
   "id": "b85132b3",
   "metadata": {},
   "source": [
    "### Imports"
   ]
  },
  {
   "cell_type": "code",
   "execution_count": null,
   "id": "c773b981",
   "metadata": {},
   "outputs": [],
   "source": [
    "from aries_cloudcontroller import AriesAgentController\n",
    "import os\n",
    "from termcolor import colored"
   ]
  },
  {
   "cell_type": "markdown",
   "id": "e47393c9",
   "metadata": {},
   "source": [
    "### Initialise the Agent Controller"
   ]
  },
  {
   "cell_type": "code",
   "execution_count": null,
   "id": "eca5c66e",
   "metadata": {},
   "outputs": [],
   "source": [
    "api_key = os.getenv(\"ACAPY_ADMIN_API_KEY\")\n",
    "admin_url = os.getenv(\"ADMIN_URL\")\n",
    "\n",
    "print(f\"Initialising a controller with admin api at {admin_url} and an api key of {api_key}\")\n",
    "agent_controller = AriesAgentController(admin_url,api_key)"
   ]
  },
  {
   "cell_type": "markdown",
   "id": "a6d47aec",
   "metadata": {},
   "source": [
    "### Start a Webhook Server"
   ]
  },
  {
   "cell_type": "code",
   "execution_count": null,
   "id": "74f1eb32",
   "metadata": {},
   "outputs": [],
   "source": [
    "webhook_port = int(os.getenv(\"WEBHOOK_PORT\"))\n",
    "webhook_host = \"0.0.0.0\"\n",
    "\n",
    "await agent_controller.init_webhook_server(webhook_host, webhook_port)\n",
    "\n",
    "print(f\"Listening for webhooks from agent at http://{webhook_host}:{webhook_port}\")"
   ]
  },
  {
   "cell_type": "markdown",
   "id": "45e42686",
   "metadata": {},
   "source": [
    "## Register Agent Event Listeners\n",
    "\n",
    "You can see some examples within the webhook_listeners recipe. Copy any relevant cells across and customise as needed.\n",
    "\n",
    "Note you do not need to regsiter listeners but it is recommended."
   ]
  },
  {
   "cell_type": "code",
   "execution_count": null,
   "id": "c1056e76",
   "metadata": {},
   "outputs": [],
   "source": [
    "listeners = []"
   ]
  },
  {
   "cell_type": "code",
   "execution_count": null,
   "id": "f51223ee",
   "metadata": {},
   "outputs": [],
   "source": [
    "## YOUR LISTENERS HERE"
   ]
  },
  {
   "cell_type": "code",
   "execution_count": null,
   "id": "0ecd7d22",
   "metadata": {},
   "outputs": [],
   "source": [
    "agent_controller.register_listeners(listeners)"
   ]
  },
  {
   "cell_type": "markdown",
   "id": "d58b866f",
   "metadata": {},
   "source": [
    "## Write Your Business Logic\n",
    "\n",
    "Develop your business logic however you like. Be sure to check the other recipes for easy examples to get you started. These include:\n",
    "\n",
    "### Credential Issuance (see issuer_template)\n",
    "\n",
    "* Issuer Setup\n",
    "* Request Credential\n",
    "* Issue Credential\n",
    "* Receive Credential\n",
    "\n",
    "### Credential Presentation (see verifier_template)\n",
    "\n",
    "* Request Presentation\n",
    "* Offer Presentation\n",
    "* Send Presentation\n",
    "* Verify Presentation"
   ]
  },
  {
   "cell_type": "code",
   "execution_count": null,
   "id": "3ae9dbed",
   "metadata": {},
   "outputs": [],
   "source": [
    "## Write your logic"
   ]
  },
  {
   "cell_type": "code",
   "execution_count": null,
   "id": "c3747e96",
   "metadata": {},
   "outputs": [],
   "source": []
  },
  {
   "cell_type": "code",
   "execution_count": null,
   "id": "38445288",
   "metadata": {},
   "outputs": [],
   "source": []
  },
  {
   "cell_type": "code",
   "execution_count": null,
   "id": "e496a95a",
   "metadata": {},
   "outputs": [],
   "source": []
  },
  {
   "cell_type": "markdown",
   "id": "9d791de7",
   "metadata": {},
   "source": [
    "## Terminate Controller\n",
    "\n",
    "Whenever you have finished with this notebook, be sure to terminate the controller. This is especially important if your business logic runs across multiple notebooks."
   ]
  },
  {
   "cell_type": "code",
   "execution_count": null,
   "id": "e85835e6",
   "metadata": {},
   "outputs": [],
   "source": [
    "await agent_controller.terminate()"
   ]
  },
  {
   "cell_type": "code",
   "execution_count": null,
   "id": "a43a58dd",
   "metadata": {},
   "outputs": [],
   "source": []
  }
 ],
 "metadata": {
  "kernelspec": {
   "display_name": "Python 3",
   "language": "python",
   "name": "python3"
  },
  "language_info": {
   "codemirror_mode": {
    "name": "ipython",
    "version": 3
   },
   "file_extension": ".py",
   "mimetype": "text/x-python",
   "name": "python",
   "nbconvert_exporter": "python",
   "pygments_lexer": "ipython3",
   "version": "3.8.5"
  }
 },
 "nbformat": 4,
 "nbformat_minor": 5
}
