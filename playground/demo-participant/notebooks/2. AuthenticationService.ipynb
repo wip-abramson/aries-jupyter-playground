{
 "cells": [
  {
   "cell_type": "markdown",
   "id": "ad095dab",
   "metadata": {},
   "source": [
    "# Authentication Service \n",
    "\n",
    "## Use this to make connections and challenge them to present specific attributes\n",
    "\n",
    "## Challenge yourself (mobile) to present the workshop attendance credential\n",
    "\n",
    "Customise as you like. It should be fairly easy to combine this code with the messaging service if you wish"
   ]
  },
  {
   "cell_type": "markdown",
   "id": "111176a9",
   "metadata": {},
   "source": [
    "### Imports"
   ]
  },
  {
   "cell_type": "code",
   "execution_count": 1,
   "id": "976393c1",
   "metadata": {},
   "outputs": [],
   "source": [
    "from aries_cloudcontroller import AriesAgentController\n",
    "from libs.authentication_service import AuthenticationService\n",
    "import os\n",
    "import time\n",
    "from termcolor import colored"
   ]
  },
  {
   "cell_type": "markdown",
   "id": "142be940",
   "metadata": {},
   "source": [
    "### Initialise the Agent Controller"
   ]
  },
  {
   "cell_type": "code",
   "execution_count": 2,
   "id": "cc6d93c7",
   "metadata": {},
   "outputs": [
    {
     "name": "stdout",
     "output_type": "stream",
     "text": [
      "Initialising a controller with admin api at http://demo-participant-agent:3021 and an api key of demo-participantsSecretApiKey\n"
     ]
    }
   ],
   "source": [
    "api_key = os.getenv(\"ACAPY_ADMIN_API_KEY\")\n",
    "admin_url = os.getenv(\"ADMIN_URL\")\n",
    "\n",
    "print(f\"Initialising a controller with admin api at {admin_url} and an api key of {api_key}\")\n",
    "agent_controller = AriesAgentController(admin_url,api_key)"
   ]
  },
  {
   "cell_type": "markdown",
   "id": "853d60fc",
   "metadata": {},
   "source": [
    "### Start a Webhook Server"
   ]
  },
  {
   "cell_type": "code",
   "execution_count": 3,
   "id": "b8214228",
   "metadata": {},
   "outputs": [
    {
     "name": "stdout",
     "output_type": "stream",
     "text": [
      "Listening for webhooks from agent at http://0.0.0.0:3010\n"
     ]
    }
   ],
   "source": [
    "webhook_port = int(os.getenv(\"WEBHOOK_PORT\"))\n",
    "webhook_host = \"0.0.0.0\"\n",
    "\n",
    "await agent_controller.init_webhook_server(webhook_host, webhook_port)\n",
    "\n",
    "print(f\"Listening for webhooks from agent at http://{webhook_host}:{webhook_port}\")"
   ]
  },
  {
   "cell_type": "markdown",
   "id": "961319eb",
   "metadata": {},
   "source": [
    "## Iniitalise the AuthenticationService\n"
   ]
  },
  {
   "cell_type": "code",
   "execution_count": 4,
   "id": "ceefe83e",
   "metadata": {},
   "outputs": [],
   "source": [
    "authentication_service = AuthenticationService(agent_controller)"
   ]
  },
  {
   "cell_type": "markdown",
   "id": "e9b880d6",
   "metadata": {},
   "source": [
    "## Define Your Presentation Request Object\n",
    "\n",
    "The one below is for the Aries ACA ACC Jupyter Playground Demo Participation credential. It also requests a self attested attribute for your nickname"
   ]
  },
  {
   "cell_type": "code",
   "execution_count": 19,
   "id": "97e262de",
   "metadata": {},
   "outputs": [],
   "source": [
    "# We add a constraint that the attribute must originate from this schema\n",
    "schema_id='84j4TQBmap9C1C7qXAs6M5:2:Aries Jupyter Playground Demo Participation:0.0.1'\n",
    "\n",
    "\n",
    "# Define the list of attributes and restrictions under which each attribute was issued that a prover must satisfy with a presentation\n",
    "# NOTE: if identifying a schema or credential definition then the attribute name must be contained within the corresponding schema.\n",
    "req_attrs = [\n",
    "    {\"name\": \"participant\", \"restrictions\": [{\"schema_id\": schema_id}]},\n",
    "#     {\"name\": \"nickname\", \"restrictions\": []}\n",
    "]\n",
    "\n",
    "# We could extend this to request the name attribute aswell if we wanted.\n",
    "\n",
    "\n",
    "playground_proof = {\n",
    "    \"name\": \"Proof of Playground\",\n",
    "    \"version\": \"1.0\",\n",
    "    \"requested_attributes\": {\n",
    "        # They generally follow this uuid pattern. Unique identifier for attribute within context of this proof request\n",
    "        # Note that req_attr['name'] gets the attribute name of each object. E.g. domain and name in this case\n",
    "        f\"0_{req_attr['name']}_uuid\":\n",
    "        req_attr for req_attr in req_attrs\n",
    "    },\n",
    "    # Predicates allow us to specify range proofs or set membership on attributes. For example greater than 10.\n",
    "    # We will ignore these for now.\n",
    "    \"requested_predicates\": {\n",
    "#         f\"0_{req_pred['name']}_GE_uuid\":\n",
    "#         req_pred for req_pred in req_preds\n",
    "    },\n",
    "    # You can also request the entire proof request be non-revoked\n",
    "    \"non_revoked\":  {\"to\": int(time.time())}\n",
    "}"
   ]
  },
  {
   "cell_type": "markdown",
   "id": "4e947a6a",
   "metadata": {},
   "source": [
    "## Create Invitation using AuthenticationService\n",
    "\n",
    "Note the current arguments specified are in their default configurations. "
   ]
  },
  {
   "cell_type": "code",
   "execution_count": 20,
   "id": "321f5ae9",
   "metadata": {},
   "outputs": [
    {
     "name": "stdout",
     "output_type": "stream",
     "text": [
      "----------------------------------------------------------\n",
      "Connection Webhook Event Received\n",
      "Connection ID :  d705e1b5-133d-40aa-ad51-469f3a0d9d29\n",
      "State :  invitation\n",
      "Routing State :  none\n",
      "Their Role :  invitee\n",
      "----------------------------------------------------------\n"
     ]
    }
   ],
   "source": [
    "response = authentication_service.new_connection_invitation(playground_proof, True)"
   ]
  },
  {
   "cell_type": "markdown",
   "id": "87796bce",
   "metadata": {},
   "source": [
    "## Share Invitation Object with Other Notebook"
   ]
  },
  {
   "cell_type": "code",
   "execution_count": null,
   "id": "004037f3",
   "metadata": {},
   "outputs": [],
   "source": [
    "print(response[\"invitation\"])"
   ]
  },
  {
   "cell_type": "markdown",
   "id": "33141ad3",
   "metadata": {},
   "source": [
    "## Display Invite as QR Code\n",
    "\n",
    "This is useful if you wish to establish a connection with a mobile wallet."
   ]
  },
  {
   "cell_type": "code",
   "execution_count": 21,
   "id": "9057c8b0",
   "metadata": {},
   "outputs": [
    {
     "data": {
      "image/png": "[encoded data removed]",
      "text/plain": [
       "<qrcode.image.pil.PilImage at 0x7fce1c0ede90>"
      ]
     },
     "execution_count": 21,
     "metadata": {},
     "output_type": "execute_result"
    },
    {
     "name": "stdout",
     "output_type": "stream",
     "text": [
      "----------------------------------------------------------\n",
      "Connection Webhook Event Received\n",
      "Connection ID :  d705e1b5-133d-40aa-ad51-469f3a0d9d29\n",
      "State :  request\n",
      "Routing State :  none\n",
      "Their Role :  invitee\n",
      "----------------------------------------------------------\n",
      "----------------------------------------------------------\n",
      "Connection Webhook Event Received\n",
      "Connection ID :  d705e1b5-133d-40aa-ad51-469f3a0d9d29\n",
      "State :  response\n",
      "Routing State :  none\n",
      "Their Role :  invitee\n",
      "----------------------------------------------------------\n",
      "----------------------------------------------------------\n",
      "Connection Webhook Event Received\n",
      "Connection ID :  d705e1b5-133d-40aa-ad51-469f3a0d9d29\n",
      "State :  active\n",
      "Routing State :  none\n",
      "Their Role :  invitee\n",
      "----------------------------------------------------------\n",
      "\n",
      "---------------------------------------------------------------------\n",
      "\n",
      "Handle present-proof\n",
      "Connection ID :  d705e1b5-133d-40aa-ad51-469f3a0d9d29\n",
      "Presentation Exchange ID :  69fba73a-b1e4-46cd-b36e-093616e2a51c\n",
      "Protocol State :  request_sent\n",
      "Agent Role :  verifier\n",
      "\n",
      "---------------------------------------------------------------------\n",
      "\n"
     ]
    }
   ],
   "source": [
    "import qrcode\n",
    "# Link for connection invitation\n",
    "invitation_url = response[\"invitation_url\"]\n",
    "# Creating an instance of qrcode\n",
    "qr = qrcode.QRCode(\n",
    "        version=1,\n",
    "        box_size=5,\n",
    "        border=5)\n",
    "qr.add_data(invitation_url)\n",
    "qr.make(fit=True)\n",
    "img = qr.make_image(fill='black', back_color='white')\n",
    "img"
   ]
  },
  {
   "cell_type": "markdown",
   "id": "14053344",
   "metadata": {},
   "source": [
    "## Get Connections for Authentication Service\n",
    "\n"
   ]
  },
  {
   "cell_type": "code",
   "execution_count": 29,
   "id": "9d126327",
   "metadata": {},
   "outputs": [
    {
     "name": "stdout",
     "output_type": "stream",
     "text": [
      "Connection ID :  177b95b8-6121-449c-aa53-d27b7fde9a43\n",
      "Is Active :  True\n",
      "Is Trusted :  False\n",
      "Auth Policy Name :  Proof of Playground Demo Attendance\n",
      "Verified Attributes :  []\n",
      "Self Attested Attributes :  []\n",
      "Connection ID :  47cefe5e-2241-44d3-a0a1-871404f355bc\n",
      "Is Active :  True\n",
      "Is Trusted :  False\n",
      "Auth Policy Name :  Proof of Playground Demo Attendance\n",
      "Verified Attributes :  []\n",
      "Self Attested Attributes :  []\n",
      "Connection ID :  ccd27d8a-2708-4932-91ac-515b8894a17f\n",
      "Is Active :  True\n",
      "Is Trusted :  False\n",
      "Auth Policy Name :  Proof of Playground Demo Attendance\n",
      "Verified Attributes :  []\n",
      "Self Attested Attributes :  []\n",
      "Connection ID :  5e9a8cb2-0cbd-4389-abac-f068f31dbac2\n",
      "Is Active :  True\n",
      "Is Trusted :  False\n",
      "Auth Policy Name :  Proof of Playground Demo Attendance\n",
      "Verified Attributes :  []\n",
      "Self Attested Attributes :  []\n",
      "Connection ID :  c9d88297-aa6a-4484-b98c-2aef68d2453f\n",
      "Is Active :  True\n",
      "Is Trusted :  False\n",
      "Auth Policy Name :  Proof of Playground Demo Attendance\n",
      "Verified Attributes :  []\n",
      "Self Attested Attributes :  []\n",
      "Connection ID :  d705e1b5-133d-40aa-ad51-469f3a0d9d29\n",
      "Is Active :  True\n",
      "Is Trusted :  False\n",
      "Auth Policy Name :  Proof of Playground\n",
      "Verified Attributes :  []\n",
      "Self Attested Attributes :  []\n"
     ]
    }
   ],
   "source": [
    "connections = authentication_service.get_connections()\n",
    "for connection in connections:\n",
    "    print(\"Connection ID : \", connection.connection_id)\n",
    "    print(\"Is Active : \", connection.is_active.done() and connection.is_active.result() == True)\n",
    "    print(\"Is Trusted : \", connection.is_active.done() and connection.is_trusted.done() and connection.is_trusted.result() == True)\n",
    "    print(\"Auth Policy Name : \" , connection.auth_policy[\"name\"])\n",
    "    print(\"Verified Attributes : \", connection.verified_attributes)\n",
    "    print(\"Self Attested Attributes : \", connection.self_attested_attributes)"
   ]
  },
  {
   "cell_type": "code",
   "execution_count": null,
   "id": "47b836d7",
   "metadata": {},
   "outputs": [],
   "source": []
  },
  {
   "cell_type": "code",
   "execution_count": null,
   "id": "175b9978",
   "metadata": {},
   "outputs": [],
   "source": []
  },
  {
   "cell_type": "markdown",
   "id": "2381e0de",
   "metadata": {},
   "source": [
    "## Terminate Controller\n",
    "\n",
    "Whenever you have finished with this notebook, be sure to terminate the controller. This is especially important if your business logic runs across multiple notebooks."
   ]
  },
  {
   "cell_type": "code",
   "execution_count": 22,
   "id": "d34eade8",
   "metadata": {},
   "outputs": [],
   "source": [
    "await agent_controller.terminate()"
   ]
  },
  {
   "cell_type": "code",
   "execution_count": null,
   "id": "4e80a267",
   "metadata": {},
   "outputs": [],
   "source": []
  }
 ],
 "metadata": {
  "kernelspec": {
   "display_name": "Python 3",
   "language": "python",
   "name": "python3"
  },
  "language_info": {
   "codemirror_mode": {
    "name": "ipython",
    "version": 3
   },
   "file_extension": ".py",
   "mimetype": "text/x-python",
   "name": "python",
   "nbconvert_exporter": "python",
   "pygments_lexer": "ipython3",
   "version": "3.8.5"
  }
 },
 "nbformat": 4,
 "nbformat_minor": 5
}
