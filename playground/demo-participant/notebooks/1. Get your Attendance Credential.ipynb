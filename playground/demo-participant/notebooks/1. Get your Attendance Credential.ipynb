{
 "cells": [
  {
   "cell_type": "markdown",
   "id": "ce88926f",
   "metadata": {},
   "source": [
    "# Get Your Attendance Credential\n"
   ]
  },
  {
   "cell_type": "markdown",
   "id": "646196be",
   "metadata": {},
   "source": [
    "### Imports"
   ]
  },
  {
   "cell_type": "code",
   "execution_count": 1,
   "id": "ccc6d657",
   "metadata": {},
   "outputs": [],
   "source": [
    "from aries_cloudcontroller import AriesAgentController\n",
    "import os\n",
    "from termcolor import colored"
   ]
  },
  {
   "cell_type": "markdown",
   "id": "99d9672c",
   "metadata": {},
   "source": [
    "### Initialise the Agent Controller"
   ]
  },
  {
   "cell_type": "code",
   "execution_count": 2,
   "id": "6d5ed873",
   "metadata": {},
   "outputs": [
    {
     "name": "stdout",
     "output_type": "stream",
     "text": [
      "Initialising a controller with admin api at http://demo-participant-agent:3021 and an api key of adminApiKey\n"
     ]
    }
   ],
   "source": [
    "api_key = os.getenv(\"ACAPY_ADMIN_API_KEY\")\n",
    "admin_url = os.getenv(\"ADMIN_URL\")\n",
    "\n",
    "print(f\"Initialising a controller with admin api at {admin_url} and an api key of {api_key}\")\n",
    "agent_controller = AriesAgentController(admin_url,api_key)"
   ]
  },
  {
   "cell_type": "markdown",
   "id": "6dc8ebaa",
   "metadata": {},
   "source": [
    "### Start a Webhook Server"
   ]
  },
  {
   "cell_type": "code",
   "execution_count": 3,
   "id": "24c262b8",
   "metadata": {},
   "outputs": [
    {
     "name": "stdout",
     "output_type": "stream",
     "text": [
      "Listening for webhooks from agent at http://0.0.0.0:3010\n"
     ]
    }
   ],
   "source": [
    "webhook_port = int(os.getenv(\"WEBHOOK_PORT\"))\n",
    "webhook_host = \"0.0.0.0\"\n",
    "\n",
    "await agent_controller.init_webhook_server(webhook_host, webhook_port)\n",
    "\n",
    "print(f\"Listening for webhooks from agent at http://{webhook_host}:{webhook_port}\")"
   ]
  },
  {
   "cell_type": "markdown",
   "id": "01713984",
   "metadata": {},
   "source": [
    "## Register Agent Event Listeners\n",
    "\n",
    "You can see some examples within the webhook_listeners recipe. Copy any relevant cells across and customise as needed."
   ]
  },
  {
   "cell_type": "code",
   "execution_count": 4,
   "id": "4127fa77",
   "metadata": {},
   "outputs": [],
   "source": [
    "listeners = []"
   ]
  },
  {
   "cell_type": "code",
   "execution_count": 5,
   "id": "959c8897",
   "metadata": {},
   "outputs": [],
   "source": [
    "def problem_report_handler(payload):\n",
    "    print(\"Problem report received\")\n",
    "    print(payload)\n",
    "\n",
    "problem_report_listener = {\n",
    "    \"topic\": \"problem_report\",\n",
    "    \"handler\": problem_report_handler\n",
    "}\n",
    "\n",
    "listeners.append(problem_report_listener)"
   ]
  },
  {
   "cell_type": "code",
   "execution_count": 6,
   "id": "870e4cc5",
   "metadata": {},
   "outputs": [],
   "source": [
    "## YOUR LISTENERS HERE\n",
    "def holder_handler(payload):\n",
    "    connection_id = payload['connection_id']\n",
    "    exchange_id = payload['credential_exchange_id']\n",
    "    state = payload['state']\n",
    "    role = payload['role']\n",
    "    print(\"\\n---------------------------------------------------\\n\")\n",
    "    print(\"Handle Issue Credential Webhook\")\n",
    "    print(f\"Connection ID : {connection_id}\")\n",
    "    print(f\"Credential exchange ID : {exchange_id}\")\n",
    "    print(\"Agent Protocol Role : \", role)\n",
    "    print(\"Protocol State : \", state )\n",
    "    print(\"\\n---------------------------------------------------\\n\")\n",
    "    print(\"Handle Credential Webhook Payload\")\n",
    "    \n",
    "    if state == \"offer_received\":\n",
    "        print(\"Credential Offer Recieved\")\n",
    "        proposal = payload[\"credential_proposal_dict\"]\n",
    "        print(\"The proposal dictionary is likely how you would understand and display a credential offer in your application\")\n",
    "        print(\"\\n\", proposal)\n",
    "        print(\"\\n This includes the set of attributes you are being offered\")\n",
    "        attributes = proposal['credential_proposal']['attributes']\n",
    "        print(attributes)\n",
    "        ## YOUR LOGIC HERE\n",
    "    elif state == \"request_sent\":\n",
    "        print(\"\\nA credential request object contains the commitment to the agents master secret using the nonce from the offer\")\n",
    "        ## YOUR LOGIC HERE\n",
    "    elif state == \"credential_received\":\n",
    "        print(\"Received Credential\")\n",
    "        ## YOUR LOGIC HERE\n",
    "    elif state == \"credential_acked\":\n",
    "        ## YOUR LOGIC HERE\n",
    "        credential = payload[\"credential\"]\n",
    "        print(\"Credential Stored\\n\")\n",
    "        print(credential)\n",
    "        \n",
    "        print(\"\\nThe referent acts as the identifier for retrieving the raw credential from the wallet\")\n",
    "        # Note: You would probably save this in your application database\n",
    "        credential_referent = credential[\"referent\"]\n",
    "        print(\"Referent\", credential_referent)\n",
    "    \n",
    "\n",
    "\n",
    "    \n",
    "holder_listener = {\n",
    "    \"topic\": \"issue_credential\",\n",
    "    \"handler\": holder_handler\n",
    "}\n",
    "\n",
    "listeners.append(holder_listener)"
   ]
  },
  {
   "cell_type": "code",
   "execution_count": 7,
   "id": "69bb49c8",
   "metadata": {},
   "outputs": [],
   "source": [
    "# Receive connection messages\n",
    "def connections_handler(payload):\n",
    "    state = payload['state']\n",
    "    connection_id = payload[\"connection_id\"]\n",
    "    their_role = payload[\"their_role\"]\n",
    "    routing_state = payload[\"routing_state\"]\n",
    "    \n",
    "    print(\"----------------------------------------------------------\")\n",
    "    print(\"Connection Webhook Event Received\")\n",
    "    print(\"Connection ID : \", connection_id)\n",
    "    print(\"State : \", state)\n",
    "    print(\"Routing State : \", routing_state)\n",
    "    print(\"Their Role : \", their_role)\n",
    "    print(\"----------------------------------------------------------\")\n",
    "\n",
    "\n",
    "    \n",
    "    if state == \"invitation\":\n",
    "        # Your business logic\n",
    "        print(\"invitation\")\n",
    "    elif state == \"request\":\n",
    "        # Your business logic\n",
    "        print(\"request\")\n",
    "\n",
    "    elif state == \"response\":\n",
    "        # Your business logic\n",
    "        print(\"response\")\n",
    "    elif state == \"active\":\n",
    "        # Your business logic\n",
    "        print(colored(\"Connection ID: {0} is now active.\".format(connection_id), \"green\", attrs=[\"bold\"]))\n",
    "        \n",
    "\n",
    "connection_listener = {\n",
    "    \"handler\": connections_handler,\n",
    "    \"topic\": \"connections\"\n",
    "}\n",
    "\n",
    "listeners.append(connection_listener)"
   ]
  },
  {
   "cell_type": "code",
   "execution_count": 8,
   "id": "9477cc64",
   "metadata": {},
   "outputs": [],
   "source": [
    "agent_controller.register_listeners(listeners)"
   ]
  },
  {
   "cell_type": "markdown",
   "id": "25978829",
   "metadata": {},
   "source": [
    "## Establish a Connection with Issuer\n",
    "\n",
    "This is a multi-use invitation from hosted agent running in the cloud.\n",
    "\n",
    "It's a bit hacky but code for it can be found here - https://github.com/wip-abramson/aries-issuer-service"
   ]
  },
  {
   "cell_type": "code",
   "execution_count": 9,
   "id": "bb8a0c9a",
   "metadata": {},
   "outputs": [],
   "source": [
    "\n",
    "invitation =  {'@type': 'did:sov:BzCbsNYhMrjHiqZDTUASHg;spec/connections/1.0/invitation', '@id': 'e7b4bb3f-127d-4eef-9bf5-1d81ea892915', 'serviceEndpoint': 'https://7b90-139-162-199-224.ngrok.io', 'label': 'Internet Identity Workshop', 'recipientKeys': ['ApPSxVvkJGgSgtSWtbt3iHjoNgGyeq4jbTohSSLaVSSw']}\n"
   ]
  },
  {
   "cell_type": "code",
   "execution_count": 10,
   "id": "319a4def",
   "metadata": {},
   "outputs": [
    {
     "name": "stdout",
     "output_type": "stream",
     "text": [
      "----------------------------------------------------------\n",
      "Connection Webhook Event Received\n",
      "Connection ID :  8c516f3c-b7db-474d-9f3d-98bd9c4d62b0\n",
      "State :  invitation\n",
      "Routing State :  none\n",
      "Their Role :  inviter\n",
      "----------------------------------------------------------\n",
      "invitation\n",
      "----------------------------------------------------------\n",
      "Connection Webhook Event Received\n",
      "Connection ID :  8c516f3c-b7db-474d-9f3d-98bd9c4d62b0\n",
      "State :  request\n",
      "Routing State :  none\n",
      "Their Role :  inviter\n",
      "----------------------------------------------------------\n",
      "request\n",
      "----------------------------------------------------------\n",
      "Connection Webhook Event Received\n",
      "Connection ID :  8c516f3c-b7db-474d-9f3d-98bd9c4d62b0\n",
      "State :  response\n",
      "Routing State :  none\n",
      "Their Role :  inviter\n",
      "----------------------------------------------------------\n",
      "response\n",
      "----------------------------------------------------------\n",
      "Connection Webhook Event Received\n",
      "Connection ID :  8c516f3c-b7db-474d-9f3d-98bd9c4d62b0\n",
      "State :  active\n",
      "Routing State :  none\n",
      "Their Role :  inviter\n",
      "----------------------------------------------------------\n",
      "\u001b[1m\u001b[32mConnection ID: 8c516f3c-b7db-474d-9f3d-98bd9c4d62b0 is now active.\u001b[0m\n",
      "\n",
      "---------------------------------------------------\n",
      "\n",
      "Handle Issue Credential Webhook\n",
      "Connection ID : 8c516f3c-b7db-474d-9f3d-98bd9c4d62b0\n",
      "Credential exchange ID : 332d2551-22cd-4a21-a7d8-301f239de42a\n",
      "Agent Protocol Role :  holder\n",
      "Protocol State :  offer_received\n",
      "\n",
      "---------------------------------------------------\n",
      "\n",
      "Handle Credential Webhook Payload\n",
      "Credential Offer Recieved\n",
      "The proposal dictionary is likely how you would understand and display a credential offer in your application\n",
      "\n",
      " {'@type': 'did:sov:BzCbsNYhMrjHiqZDTUASHg;spec/issue-credential/1.0/propose-credential', '@id': '7966064d-1465-4a09-bce6-3f6e790e866a', 'cred_def_id': 'YAnZAFsn3mV8EEumQSi2QX:3:CL:6734:default', 'schema_id': '84j4TQBmap9C1C7qXAs6M5:2:Aries Jupyter Playground Demo Participation:0.0.1', 'comment': '', 'credential_proposal': {'@type': 'did:sov:BzCbsNYhMrjHiqZDTUASHg;spec/issue-credential/1.0/credential-preview', 'attributes': [{'name': 'Event Name', 'value': 'Internet Identity Workshop Oct 2021'}, {'name': 'Participant', 'value': '<Label YOUR Agent>'}, {'name': 'Description', 'value': 'Thank you for attending the Aries Jupyter Playground demo at HGF 2021'}, {'name': 'Date', 'value': '2021-10-12'}]}}\n",
      "\n",
      " This includes the set of attributes you are being offered\n",
      "[{'name': 'Event Name', 'value': 'Internet Identity Workshop Oct 2021'}, {'name': 'Participant', 'value': '<Label YOUR Agent>'}, {'name': 'Description', 'value': 'Thank you for attending the Aries Jupyter Playground demo at HGF 2021'}, {'name': 'Date', 'value': '2021-10-12'}]\n"
     ]
    }
   ],
   "source": [
    "auto_accept=False\n",
    "alias=\"IIW Attendee\"\n",
    "\n",
    "invite_response = await agent_controller.connections.receive_invitation(invitation, alias, auto_accept)\n",
    "connection_id = invite_response[\"connection_id\"]"
   ]
  },
  {
   "cell_type": "markdown",
   "id": "c739071a",
   "metadata": {},
   "source": [
    "## Propose Set of Attributes for Demo Participation Credential\n",
    "\n",
    "\n",
    "Scheme can be viewed on [IndyScan here](https://indyscan.io/tx/SOVRIN_BUILDERNET/domain/6734)\n",
    "\n",
    "attributes = [\"Event Name\", \"Participant\", \"Description\", \"Date\"]\n"
   ]
  },
  {
   "cell_type": "code",
   "execution_count": 11,
   "id": "30e8f998",
   "metadata": {},
   "outputs": [
    {
     "name": "stdout",
     "output_type": "stream",
     "text": [
      "YAnZAFsn3mV8EEumQSi2QX:3:CL:6734:default\n",
      "84j4TQBmap9C1C7qXAs6M5:2:Aries Jupyter Playground Demo Participation:0.0.1\n"
     ]
    }
   ],
   "source": [
    "response = await agent_controller.issuer.get_records(connection_id=connection_id, state=\"offer_received\")\n",
    "\n",
    "\n",
    "cred_def_id = response[\"results\"][0][\"credential_proposal_dict\"][\"cred_def_id\"]\n",
    "schema_id = response[\"results\"][0][\"credential_proposal_dict\"][\"schema_id\"]\n",
    "\n",
    "print(cred_def_id)\n",
    "print(schema_id)"
   ]
  },
  {
   "cell_type": "code",
   "execution_count": 12,
   "id": "2e9e6934",
   "metadata": {},
   "outputs": [
    {
     "name": "stdin",
     "output_type": "stream",
     "text": [
      "Enter the name you wish to be identified as : Wip\n",
      "Add any description you wish :  Woop\n"
     ]
    },
    {
     "name": "stdout",
     "output_type": "stream",
     "text": [
      "Proposing Aries ACA ACC Jupyter Playground Demo Participation be Issued with following attributes: \n",
      " \n",
      " [{'name': 'Event Name', 'value': 'Internet Identity Workshop'}, {'name': 'Participant', 'value': 'Wip'}, {'name': 'Description', 'value': 'Woop'}, {'name': 'Date', 'value': '2021-10-12'}]\n"
     ]
    }
   ],
   "source": [
    "from datetime import date\n",
    "\n",
    "\n",
    "event_name = \"Internet Identity Workshop\"\n",
    "participant=input(\"Enter the name you wish to be identified as :\")\n",
    "description=input(\"Add any description you wish : \")\n",
    "date= date.today().isoformat()\n",
    "\n",
    "\n",
    "attributes = [\n",
    "    {\"name\": \"Event Name\", \"value\": event_name},\n",
    "    {\"name\": \"Participant\", \"value\": participant},\n",
    "    {\"name\": \"Description\", \"value\": description},\n",
    "    {\"name\": \"Date\", \"value\": date}\n",
    "]\n",
    "\n",
    "print(f\"Proposing Aries ACA ACC Jupyter Playground Demo Participation be Issued with following attributes: \\n \\n {attributes}\")"
   ]
  },
  {
   "cell_type": "code",
   "execution_count": 13,
   "id": "d3e5da54",
   "metadata": {},
   "outputs": [
    {
     "name": "stdout",
     "output_type": "stream",
     "text": [
      "\n",
      "---------------------------------------------------\n",
      "\n",
      "Handle Issue Credential Webhook\n",
      "Connection ID : 8c516f3c-b7db-474d-9f3d-98bd9c4d62b0\n",
      "Credential exchange ID : e4160742-e3dd-4c85-935f-04356c2badf5\n",
      "Agent Protocol Role :  holder\n",
      "Protocol State :  proposal_sent\n",
      "\n",
      "---------------------------------------------------\n",
      "\n",
      "Handle Credential Webhook Payload\n",
      "\n",
      "---------------------------------------------------\n",
      "\n",
      "Handle Issue Credential Webhook\n",
      "Connection ID : 8c516f3c-b7db-474d-9f3d-98bd9c4d62b0\n",
      "Credential exchange ID : aa4a11b2-55a4-4c89-b542-4af01ba00e64\n",
      "Agent Protocol Role :  holder\n",
      "Protocol State :  offer_received\n",
      "\n",
      "---------------------------------------------------\n",
      "\n",
      "Handle Credential Webhook Payload\n",
      "Credential Offer Recieved\n",
      "The proposal dictionary is likely how you would understand and display a credential offer in your application\n",
      "\n",
      " {'@type': 'did:sov:BzCbsNYhMrjHiqZDTUASHg;spec/issue-credential/1.0/propose-credential', '@id': '1c22bbf5-5a82-412c-ba04-4983907fdada', 'cred_def_id': 'YAnZAFsn3mV8EEumQSi2QX:3:CL:6734:default', 'schema_id': '84j4TQBmap9C1C7qXAs6M5:2:Aries Jupyter Playground Demo Participation:0.0.1', 'comment': '', 'credential_proposal': {'@type': 'did:sov:BzCbsNYhMrjHiqZDTUASHg;spec/issue-credential/1.0/credential-preview', 'attributes': [{'name': 'Event Name', 'value': 'Internet Identity Workshop Oct 2021'}, {'name': 'Participant', 'value': 'Wip'}, {'name': 'Description', 'value': 'Woop\\n Thanks for attending!'}, {'name': 'Date', 'value': '2021-10-12'}]}}\n",
      "\n",
      " This includes the set of attributes you are being offered\n",
      "[{'name': 'Event Name', 'value': 'Internet Identity Workshop Oct 2021'}, {'name': 'Participant', 'value': 'Wip'}, {'name': 'Description', 'value': 'Woop\\n Thanks for attending!'}, {'name': 'Date', 'value': '2021-10-12'}]\n"
     ]
    }
   ],
   "source": [
    "comment=\"Please can you issue me this\"\n",
    "auto_remove=\"true\"\n",
    "trace=\"false\"\n",
    "\n",
    "proposal = await agent_controller.issuer.send_proposal(connection_id, schema_id, cred_def_id, attributes, comment, auto_remove, trace)"
   ]
  },
  {
   "cell_type": "markdown",
   "id": "26207b98",
   "metadata": {},
   "source": [
    "## Request Credential From Offer\n",
    "\n",
    "Note: Your agent will automatically respond if ACAPY_AUTO_RESPOND_CREDENTIAL_OFFER=true flag is set in .env file of agent. Default is false.\n",
    "\n",
    "To respond to an offer you must identify the offer using the credential_exchange_id generated for it. This is available from within the issue-credential holder handler. You could add custom logic in this loop `elif state == \"request\":` to handle this.\n",
    "\n",
    "However, we will fetch the credential exchange records and **assume** this agent only has one record. Customise accordingly.\n"
   ]
  },
  {
   "cell_type": "code",
   "execution_count": 14,
   "id": "7b18c87a",
   "metadata": {},
   "outputs": [],
   "source": [
    "# Optional args\n",
    "thread_id=None\n",
    "state = \"offer_received\"\n",
    "role = \"prover\"\n",
    "\n",
    "\n",
    "records_response = await agent_controller.issuer.get_records(connection_id=connection_id,state=state)\n",
    "record = records_response[\"results\"][0]\n",
    "record_id = record[\"credential_exchange_id\"]"
   ]
  },
  {
   "cell_type": "code",
   "execution_count": 15,
   "id": "3d5fcf38",
   "metadata": {},
   "outputs": [
    {
     "name": "stdout",
     "output_type": "stream",
     "text": [
      "\n",
      "---------------------------------------------------\n",
      "\n",
      "Handle Issue Credential Webhook\n",
      "Connection ID : 8c516f3c-b7db-474d-9f3d-98bd9c4d62b0\n",
      "Credential exchange ID : 332d2551-22cd-4a21-a7d8-301f239de42a\n",
      "Agent Protocol Role :  holder\n",
      "Protocol State :  request_sent\n",
      "\n",
      "---------------------------------------------------\n",
      "\n",
      "Handle Credential Webhook Payload\n",
      "\n",
      "A credential request object contains the commitment to the agents master secret using the nonce from the offer\n",
      "\n",
      "---------------------------------------------------\n",
      "\n",
      "Handle Issue Credential Webhook\n",
      "Connection ID : 8c516f3c-b7db-474d-9f3d-98bd9c4d62b0\n",
      "Credential exchange ID : 332d2551-22cd-4a21-a7d8-301f239de42a\n",
      "Agent Protocol Role :  holder\n",
      "Protocol State :  credential_received\n",
      "\n",
      "---------------------------------------------------\n",
      "\n",
      "Handle Credential Webhook Payload\n",
      "Received Credential\n"
     ]
    }
   ],
   "source": [
    "response = await agent_controller.issuer.send_request_for_record(record_id)"
   ]
  },
  {
   "cell_type": "markdown",
   "id": "d04aefdb",
   "metadata": {},
   "source": [
    "## Store Received Credential\n",
    "\n",
    "This will be done automatically if the ACAPY_AUTO_STORE_CREDENTIAL=true flag is set in the .env file for this agent. Default is false.\n",
    "\n",
    "Again you could handle this in your holder handler function in the `elif state == \"credential_received\":` loop."
   ]
  },
  {
   "cell_type": "code",
   "execution_count": 16,
   "id": "26771e0d",
   "metadata": {},
   "outputs": [
    {
     "name": "stdout",
     "output_type": "stream",
     "text": [
      "\n",
      "---------------------------------------------------\n",
      "\n",
      "Handle Issue Credential Webhook\n",
      "Connection ID : 8c516f3c-b7db-474d-9f3d-98bd9c4d62b0\n",
      "Credential exchange ID : 332d2551-22cd-4a21-a7d8-301f239de42a\n",
      "Agent Protocol Role :  holder\n",
      "Protocol State :  credential_acked\n",
      "\n",
      "---------------------------------------------------\n",
      "\n",
      "Handle Credential Webhook Payload\n",
      "Credential Stored\n",
      "\n",
      "{'referent': '3f97c1cd-e7ca-41dd-b4d3-55030e67d1a7', 'attrs': {'Event Name': 'Internet Identity Workshop Oct 2021', 'Date': '2021-10-12', 'Participant': '<Label YOUR Agent>', 'Description': 'Thank you for attending the Aries Jupyter Playground demo at HGF 2021'}, 'schema_id': '84j4TQBmap9C1C7qXAs6M5:2:Aries Jupyter Playground Demo Participation:0.0.1', 'cred_def_id': 'YAnZAFsn3mV8EEumQSi2QX:3:CL:6734:default'}\n",
      "\n",
      "The referent acts as the identifier for retrieving the raw credential from the wallet\n",
      "Referent 3f97c1cd-e7ca-41dd-b4d3-55030e67d1a7\n"
     ]
    }
   ],
   "source": [
    "# Optionally specify an identifier to uniquely identify this credential within your agents wallet.\n",
    "# You would likely want to save this somewhere.\n",
    "# If not set a random one will be generated for you\n",
    "credential_id = None\n",
    "\n",
    "store_cred_response = await agent_controller.issuer.store_credential(record_id, credential_id)"
   ]
  },
  {
   "cell_type": "markdown",
   "id": "9ed4d773",
   "metadata": {},
   "source": [
    "## Terminate Controller\n",
    "\n",
    "Whenever you have finished with this notebook, be sure to terminate the controller. This is especially important if your business logic runs across multiple notebooks."
   ]
  },
  {
   "cell_type": "code",
   "execution_count": null,
   "id": "19cd9e96",
   "metadata": {},
   "outputs": [],
   "source": [
    "await agent_controller.terminate()"
   ]
  },
  {
   "cell_type": "code",
   "execution_count": null,
   "id": "d8413731",
   "metadata": {},
   "outputs": [],
   "source": []
  }
 ],
 "metadata": {
  "kernelspec": {
   "display_name": "Python 3",
   "language": "python",
   "name": "python3"
  },
  "language_info": {
   "codemirror_mode": {
    "name": "ipython",
    "version": 3
   },
   "file_extension": ".py",
   "mimetype": "text/x-python",
   "name": "python",
   "nbconvert_exporter": "python",
   "pygments_lexer": "ipython3",
   "version": "3.8.5"
  }
 },
 "nbformat": 4,
 "nbformat_minor": 5
}
