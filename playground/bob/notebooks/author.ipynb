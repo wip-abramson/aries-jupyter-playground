{
 "cells": [
  {
   "cell_type": "markdown",
   "id": "acc1e95d",
   "metadata": {},
   "source": [
    "# Initialising Your Agent as an Issuing Authority\n",
    "\n",
    "This template walks you through the basic steps you need to take to configure your agent as an issuing authority on the Sovrin StagingNet. If using a different network you will need to update this template. The steps include:\n",
    "\n",
    "* Writing your DID to the Sovrin StagingNet\n",
    "* Accepting the Transaction Author Agreement\n",
    "* Authoring schema to the ledger\n",
    "* Authoring credential definitions for the schema this agent intends to issue\n",
    "* Persisting Identifiers for use throughout the playground.\n",
    "\n",
    "It is recommended that this initialisation notebook be run **once**. If you are following the default docker-compose services then your agents wallet storage will be persisted in a postgres database as long as you run `./manage stop` rather than `./manage down`. \n",
    "\n"
   ]
  },
  {
   "cell_type": "markdown",
   "id": "464589a0",
   "metadata": {},
   "source": [
    "### Imports"
   ]
  },
  {
   "cell_type": "code",
   "execution_count": 1,
   "id": "0050400e",
   "metadata": {},
   "outputs": [],
   "source": [
    "from aries_cloudcontroller import AriesAgentController\n",
    "import os\n",
    "from termcolor import colored"
   ]
  },
  {
   "cell_type": "markdown",
   "id": "279b08e8",
   "metadata": {},
   "source": [
    "### Initialise the Agent Controller"
   ]
  },
  {
   "cell_type": "code",
   "execution_count": 2,
   "id": "54e30848",
   "metadata": {},
   "outputs": [
    {
     "name": "stdout",
     "output_type": "stream",
     "text": [
      "Initialising a controller with admin api at http://bob-agent:3021 and an api key of adminApiKey\n"
     ]
    }
   ],
   "source": [
    "api_key = os.getenv(\"ACAPY_ADMIN_API_KEY\")\n",
    "admin_url = os.getenv(\"ADMIN_URL\")\n",
    "\n",
    "print(f\"Initialising a controller with admin api at {admin_url} and an api key of {api_key}\")\n",
    "agent_controller = AriesAgentController(admin_url,api_key)"
   ]
  },
  {
   "cell_type": "markdown",
   "id": "257d4b5b",
   "metadata": {},
   "source": [
    "## Write DID to the Public Ledger\n",
    "\n",
    "Note: if defined a ACAPY_WALLET_SEED value for your agent then this function will return a DID, but this DID still needs to be written to the ledger. If you did not define a seed you will need to create a DID first."
   ]
  },
  {
   "cell_type": "code",
   "execution_count": 3,
   "id": "7a6cdcad",
   "metadata": {},
   "outputs": [],
   "source": [
    "public_did_response = await agent_controller.wallet.get_public_did()"
   ]
  },
  {
   "cell_type": "code",
   "execution_count": 4,
   "id": "38f41eb4",
   "metadata": {},
   "outputs": [
    {
     "name": "stdout",
     "output_type": "stream",
     "text": [
      "DID {'did': 'MH4Kr2vuxWmoWzD3rAhCa7', 'verkey': 'C3zVTCJJWyPBobRsNYHyij6zRo2jdFJVGmZAtF2TY3ut', 'posture': 'wallet_only', 'key_type': 'ed25519', 'method': 'sov'}\n"
     ]
    }
   ],
   "source": [
    "if public_did_response[\"result\"]:\n",
    "    did_obj = public_did_response[\"result\"]\n",
    "else:\n",
    "    create_did_response = await agent_controller.wallet.create_did()\n",
    "    did_obj = create_did_response['result']\n",
    "print(\"DID\", did_obj)"
   ]
  },
  {
   "cell_type": "markdown",
   "id": "2fe7354a",
   "metadata": {},
   "source": [
    "## Copy DID and Verkey across to Endorser Who Will Write it to the Ledger"
   ]
  },
  {
   "cell_type": "code",
   "execution_count": 5,
   "id": "ed0cd721",
   "metadata": {},
   "outputs": [
    {
     "name": "stdout",
     "output_type": "stream",
     "text": [
      "did='MH4Kr2vuxWmoWzD3rAhCa7'\n",
      "verkey='C3zVTCJJWyPBobRsNYHyij6zRo2jdFJVGmZAtF2TY3ut'\n"
     ]
    }
   ],
   "source": [
    "print(f\"did='{did_obj['did']}'\")\n",
    "print(f\"verkey='{did_obj['verkey']}'\")"
   ]
  },
  {
   "cell_type": "markdown",
   "id": "4044a394",
   "metadata": {},
   "source": [
    "## Accept Transaction Author Agreement\n",
    "\n",
    "Although the Sovrin StagingNet is permissionless, before DID's have the authority to write to the ledger they must accept something called a transaction author agreement by signing it using the DID they have on the ledger.\n",
    "\n",
    "As a global public ledger, the Sovrin Ledger and all its participants are subject to privacy and data protection regulations such as the EU General Data Protection Regulation (GDPR). These regulations require that the participants be explicit about responsibilities for Personal Data.\n",
    "\n",
    "To clarify these responsibilities and provide protection for all parties, the Sovrin Governance Framework Working Group developed an agreement between Transaction Authors and the Sovrin Foundation. The TAA can be found at Sovrin.org. It ensures that users are aware of and consent to the fact that all data written to the Sovrin Ledger cannot be removed, even if the original author of the transaction requests its removal.\n",
    "\n",
    "The TAA outlines the policies that users must follow when interacting with the Sovrin Ledger. When a user’s client software is preparing a transaction for submission to the network, it must include a demonstration that the user had the opportunity to review the current TAA and accept it. This is done by including some additional fields in the ledger write transaction: \n",
    "\n",
    "* A hash of the agreement\n",
    "* A date when the agreement was accepted, and\n",
    "* A string indicating the user interaction that was followed to obtain the acceptance.\n",
    "\n",
    "The Indy client API used by Sovrin has been extended to allow users to review current and past agreements and to indicate acceptance through an approved user interaction pattern. - source: https://sovrin.org/preparing-for-the-sovrin-transaction-author-agreement/\n",
    "\n",
    "For more details on TAA please read more at the following links:\n",
    "* [Preparing for the Sovrin Transaction Author Agreement](https://sovrin.org/preparing-for-the-sovrin-transaction-author-agreement/)\n",
    "* [How the recent approval of the Sovrin Governance Framework v2 affects Transaction Authors\n",
    "](https://sovrin.org/how-the-recent-approval-of-the-sovrin-governance-framework-v2-affects-transaction-authors/)\n",
    "* [TAA v2](https://github.com/sovrin-foundation/sovrin/blob/master/TAA/TAA.md)\n",
    "* [TAA Acceptance Mechanism List (AML)](https://github.com/sovrin-foundation/sovrin/blob/master/TAA/AML.md)"
   ]
  },
  {
   "cell_type": "code",
   "execution_count": 6,
   "id": "2c0d7fff",
   "metadata": {},
   "outputs": [
    {
     "data": {
      "text/plain": [
       "{}"
      ]
     },
     "execution_count": 6,
     "metadata": {},
     "output_type": "execute_result"
    }
   ],
   "source": [
    "taa_response = await agent_controller.ledger.get_taa()\n",
    "TAA = taa_response['result']['taa_record']\n",
    "TAA['mechanism'] = \"service_agreement\"\n",
    "await agent_controller.ledger.accept_taa(TAA)"
   ]
  },
  {
   "cell_type": "markdown",
   "id": "8eba5b9a",
   "metadata": {},
   "source": [
    "## Assign Agent Public DID if Not Set\n",
    "\n",
    "Will only be ran if ACAPY_WALLET_SEED not initially set."
   ]
  },
  {
   "cell_type": "code",
   "execution_count": 7,
   "id": "76bb66aa",
   "metadata": {},
   "outputs": [
    {
     "name": "stdout",
     "output_type": "stream",
     "text": [
      "Successfully intialised agent with Public DID :  MH4Kr2vuxWmoWzD3rAhCa7\n"
     ]
    }
   ],
   "source": [
    "if did_obj[\"posture\"] != \"public\":\n",
    "    response = await agent_controller.wallet.assign_public_did(did_obj[\"did\"])\n",
    "print(\"Successfully intialised agent with Public DID : \", did_obj[\"did\"])"
   ]
  },
  {
   "cell_type": "markdown",
   "id": "496d104b",
   "metadata": {},
   "source": [
    "## Start Webhook Server"
   ]
  },
  {
   "cell_type": "code",
   "execution_count": 8,
   "id": "ce4b381f",
   "metadata": {},
   "outputs": [
    {
     "name": "stdout",
     "output_type": "stream",
     "text": [
      "Listening for webhooks from agent at http://0.0.0.0:3010\n"
     ]
    }
   ],
   "source": [
    "webhook_port = int(os.getenv(\"WEBHOOK_PORT\"))\n",
    "webhook_host = \"0.0.0.0\"\n",
    "\n",
    "await agent_controller.init_webhook_server(webhook_host, webhook_port)\n",
    "\n",
    "print(f\"Listening for webhooks from agent at http://{webhook_host}:{webhook_port}\")"
   ]
  },
  {
   "cell_type": "code",
   "execution_count": 9,
   "id": "ab3fed54",
   "metadata": {},
   "outputs": [],
   "source": [
    "listeners = []"
   ]
  },
  {
   "cell_type": "code",
   "execution_count": 10,
   "id": "74f819a3",
   "metadata": {},
   "outputs": [],
   "source": [
    "def transaction_handler(payload):\n",
    "    print(\"Transaction Handler\")\n",
    "    print(payload)\n",
    "    \n",
    "transaction_listener = {\n",
    "    \"topic\": \"transaction\",\n",
    "    \"handler\": transaction_handler\n",
    "\n",
    "}\n",
    "\n",
    "listeners.append(transaction_listener)"
   ]
  },
  {
   "cell_type": "code",
   "execution_count": 11,
   "id": "cecf2c3e",
   "metadata": {},
   "outputs": [],
   "source": [
    "# Receive connection messages\n",
    "def connections_handler(payload):\n",
    "    state = payload['state']\n",
    "    connection_id = payload[\"connection_id\"]\n",
    "    their_role = payload[\"their_role\"]\n",
    "    routing_state = payload[\"routing_state\"]\n",
    "    \n",
    "    print(\"----------------------------------------------------------\")\n",
    "    print(\"Connection Webhook Event Received\")\n",
    "    print(\"Connection ID : \", connection_id)\n",
    "    print(\"State : \", state)\n",
    "    print(\"Routing State : \", routing_state)\n",
    "    print(\"Their Role : \", their_role)\n",
    "    print(\"----------------------------------------------------------\")\n",
    "    if state == \"active\":\n",
    "        # Your business logic\n",
    "        print(colored(\"Connection ID: {0} is now active.\".format(connection_id), \"green\", attrs=[\"bold\"]))\n",
    "\n",
    "connection_listener = {\n",
    "    \"handler\": connections_handler,\n",
    "    \"topic\": \"connections\"\n",
    "}\n",
    "\n",
    "listeners.append(connection_listener)"
   ]
  },
  {
   "cell_type": "code",
   "execution_count": 12,
   "id": "3a35f67c",
   "metadata": {},
   "outputs": [],
   "source": [
    "agent_controller.register_listeners(listeners)"
   ]
  },
  {
   "cell_type": "markdown",
   "id": "200a470a",
   "metadata": {},
   "source": [
    "## Connect With Transaction Endorser"
   ]
  },
  {
   "cell_type": "code",
   "execution_count": 13,
   "id": "cd341e58",
   "metadata": {},
   "outputs": [],
   "source": [
    "invitation = {'@type': 'did:sov:BzCbsNYhMrjHiqZDTUASHg;spec/connections/1.0/invitation', '@id': '3c3394f6-8705-4318-9858-a792ce7a471a', 'label': 'Alice', 'serviceEndpoint': 'http://975f9ceaca5e.ngrok.io', 'recipientKeys': ['FAKi9XEBgyFMA3L4eFXaVtgZri3cTSRQLSVBr9gi9zN3']}\n"
   ]
  },
  {
   "cell_type": "code",
   "execution_count": 14,
   "id": "9f28cd63",
   "metadata": {},
   "outputs": [
    {
     "name": "stdout",
     "output_type": "stream",
     "text": [
      "----------------------------------------------------------\n",
      "Connection Webhook Event Received\n",
      "Connection ID :  e6b70eda-c12c-4c84-b7c1-661a978efc80\n",
      "State :  invitation\n",
      "Routing State :  none\n",
      "Their Role :  inviter\n",
      "----------------------------------------------------------\n"
     ]
    }
   ],
   "source": [
    "auto_accept=\"false\"\n",
    "alias=None\n",
    "\n",
    "invite_response = await agent_controller.connections.receive_invitation(invitation, alias, auto_accept)\n",
    "connection_id = invite_response[\"connection_id\"]"
   ]
  },
  {
   "cell_type": "code",
   "execution_count": 15,
   "id": "29499e5f",
   "metadata": {},
   "outputs": [
    {
     "name": "stdout",
     "output_type": "stream",
     "text": [
      "----------------------------------------------------------\n",
      "Connection Webhook Event Received\n",
      "Connection ID :  e6b70eda-c12c-4c84-b7c1-661a978efc80\n",
      "State :  request\n",
      "Routing State :  none\n",
      "Their Role :  inviter\n",
      "----------------------------------------------------------\n",
      "----------------------------------------------------------\n",
      "Connection Webhook Event Received\n",
      "Connection ID :  e6b70eda-c12c-4c84-b7c1-661a978efc80\n",
      "State :  response\n",
      "Routing State :  none\n",
      "Their Role :  inviter\n",
      "----------------------------------------------------------\n",
      "----------------------------------------------------------\n",
      "Connection Webhook Event Received\n",
      "Connection ID :  e6b70eda-c12c-4c84-b7c1-661a978efc80\n",
      "State :  active\n",
      "Routing State :  none\n",
      "Their Role :  inviter\n",
      "----------------------------------------------------------\n",
      "\u001b[1m\u001b[32mConnection ID: e6b70eda-c12c-4c84-b7c1-661a978efc80 is now active.\u001b[0m\n"
     ]
    }
   ],
   "source": [
    "# Label for the connection\n",
    "my_label = None\n",
    "# Endpoint you expect to recieve messages at\n",
    "my_endpoint = None\n",
    "\n",
    "accept_response = await agent_controller.connections.accept_invitation(connection_id, my_label, my_endpoint)"
   ]
  },
  {
   "cell_type": "markdown",
   "id": "e58b247d",
   "metadata": {},
   "source": [
    "## Send Trust Ping\n",
    "\n",
    "Once connection moves to response state one agent, either inviter or invitee needs to send a trust ping.\n",
    "\n",
    "Note: you may not need to run this cell. It depends one of the agents has the ACAPY_AUTO_PING_CONNECTION=true flag set."
   ]
  },
  {
   "cell_type": "code",
   "execution_count": null,
   "id": "957a9315",
   "metadata": {},
   "outputs": [],
   "source": [
    "comment = \"Some Optional Comment\"\n",
    "message = await agent_controller.messaging.trust_ping(connection_id, comment)"
   ]
  },
  {
   "cell_type": "markdown",
   "id": "ff0031e7",
   "metadata": {},
   "source": [
    "## Writing Schema\n",
    "\n",
    "Write as many schema to the ledger as you like. Be sure to store each schema_id, you will need these when it comes to authoring credential defintition transactions and issuing credentials against this schema.\n",
    "\n",
    "Uncomment and copy the below cell as many times as you need. Be sure to update any arugments surrounded by <> with your own details."
   ]
  },
  {
   "cell_type": "code",
   "execution_count": 16,
   "id": "0d985d0b",
   "metadata": {},
   "outputs": [],
   "source": [
    "# # Define you schema name - must be unique on the ledger\n",
    "schema_name = \"some schema\"\n",
    "# Can version the schema if you wish to update it\n",
    "schema_version = \"0.0.1\"\n",
    "# Define any list of attributes you wish to include in your schema\n",
    "attributes = [\"data\"]\n",
    "\n"
   ]
  },
  {
   "cell_type": "code",
   "execution_count": 17,
   "id": "99c92190",
   "metadata": {},
   "outputs": [],
   "source": [
    "## THIS SHOULD FAIL AS PUBLIC DID DOES NOT HAVE ENDORSER ROLE"
   ]
  },
  {
   "cell_type": "code",
   "execution_count": 18,
   "id": "a831e400",
   "metadata": {},
   "outputs": [],
   "source": [
    "response = await agent_controller.schema.write_schema(schema_name, attributes, schema_version)\n",
    "schema_id = response[\"schema_id\"]"
   ]
  },
  {
   "cell_type": "markdown",
   "id": "6c12a475",
   "metadata": {},
   "source": [
    "## Configure Transaction Endorser"
   ]
  },
  {
   "cell_type": "code",
   "execution_count": 19,
   "id": "9f487418",
   "metadata": {},
   "outputs": [],
   "source": [
    "transaction_my_job = \"TRANSACTION_AUTHOR\"\n",
    "response =  await agent_controller.transactions.set_endorser_role(connection_id, transaction_my_job)"
   ]
  },
  {
   "cell_type": "code",
   "execution_count": 21,
   "id": "3ea781e1",
   "metadata": {},
   "outputs": [],
   "source": [
    "endorser_did=\"7BVkD5QLC2MMLFGq2uoeU8\"\n",
    "endorser_name=\"My Endorser\"\n",
    "response = await agent_controller.transactions.set_endorser_info(connection_id, endorser_did,endorser_name)"
   ]
  },
  {
   "cell_type": "code",
   "execution_count": 22,
   "id": "e5e7b369",
   "metadata": {},
   "outputs": [
    {
     "ename": "KeyError",
     "evalue": "'schema_id'",
     "output_type": "error",
     "traceback": [
      "\u001b[0;31m---------------------------------------------------------------------------\u001b[0m",
      "\u001b[0;31mKeyError\u001b[0m                                  Traceback (most recent call last)",
      "\u001b[0;32m<ipython-input-22-60ce7439c7b4>\u001b[0m in \u001b[0;36m<module>\u001b[0;34m\u001b[0m\n\u001b[1;32m      1\u001b[0m \u001b[0mcreate_txn_for_endorser\u001b[0m \u001b[0;34m=\u001b[0m \u001b[0;34m\"true\"\u001b[0m\u001b[0;34m\u001b[0m\u001b[0;34m\u001b[0m\u001b[0m\n\u001b[1;32m      2\u001b[0m \u001b[0mresponse\u001b[0m \u001b[0;34m=\u001b[0m \u001b[0;32mawait\u001b[0m \u001b[0magent_controller\u001b[0m\u001b[0;34m.\u001b[0m\u001b[0mschema\u001b[0m\u001b[0;34m.\u001b[0m\u001b[0mwrite_schema\u001b[0m\u001b[0;34m(\u001b[0m\u001b[0mschema_name\u001b[0m\u001b[0;34m,\u001b[0m \u001b[0mattributes\u001b[0m\u001b[0;34m,\u001b[0m \u001b[0mschema_version\u001b[0m\u001b[0;34m,\u001b[0m \u001b[0mconnection_id\u001b[0m\u001b[0;34m,\u001b[0m \u001b[0mcreate_txn_for_endorser\u001b[0m\u001b[0;34m)\u001b[0m\u001b[0;34m\u001b[0m\u001b[0;34m\u001b[0m\u001b[0m\n\u001b[0;32m----> 3\u001b[0;31m \u001b[0mschema_id\u001b[0m \u001b[0;34m=\u001b[0m \u001b[0mresponse\u001b[0m\u001b[0;34m[\u001b[0m\u001b[0;34m\"schema_id\"\u001b[0m\u001b[0;34m]\u001b[0m\u001b[0;34m\u001b[0m\u001b[0;34m\u001b[0m\u001b[0m\n\u001b[0m",
      "\u001b[0;31mKeyError\u001b[0m: 'schema_id'"
     ]
    }
   ],
   "source": [
    "\n",
    "create_txn_for_endorser = \"true\"\n",
    "response = await agent_controller.schema.write_schema(schema_name, attributes, schema_version, connection_id, create_txn_for_endorser)\n"
   ]
  },
  {
   "cell_type": "code",
   "execution_count": 24,
   "id": "9656eb8d",
   "metadata": {},
   "outputs": [
    {
     "name": "stdout",
     "output_type": "stream",
     "text": [
      "b925e0e7-2e7f-4ae9-9eea-65fcacf00bab\n"
     ]
    }
   ],
   "source": [
    "transaction_id = response['txn']['transaction_id']\n",
    "print(transaction_id)"
   ]
  },
  {
   "cell_type": "code",
   "execution_count": 29,
   "id": "52c258ee",
   "metadata": {},
   "outputs": [],
   "source": [
    "endorser_write_transaction = \"true\"\n",
    "body = {\n",
    "  \"expires_time\": \"2021-09-29T05:22:19Z\"\n",
    "}\n",
    "response = await agent_controller.transactions.create_request(transaction_id, endorser_write_transaction, body)"
   ]
  },
  {
   "cell_type": "code",
   "execution_count": 31,
   "id": "c027ce7f",
   "metadata": {},
   "outputs": [
    {
     "name": "stdout",
     "output_type": "stream",
     "text": [
      "{'thread_id': 'e8b080ce-1dc2-4694-b1ab-42d8f26437af', 'updated_at': '2021-07-09 16:45:39.773209Z', 'connection_id': 'e6b70eda-c12c-4c84-b7c1-661a978efc80', 'signature_request': [{'context': 'did:sov', 'method': 'add-signature', 'signature_type': '<requested signature type>', 'signer_goal_code': 'transaction.endorse', 'author_goal_code': 'transaction.ledger.write'}], 'signature_response': [{'message_id': 'f0614c99-554e-4d6a-9add-d3f4a5a58a2e', 'context': 'did:sov', 'method': 'add-signature', 'signer_goal_code': 'transaction.endorse', 'signature_type': '<requested signature type>', 'signature': {'7BVkD5QLC2MMLFGq2uoeU8': '{\"endorser\":\"7BVkD5QLC2MMLFGq2uoeU8\",\"identifier\":\"MH4Kr2vuxWmoWzD3rAhCa7\",\"operation\":{\"data\":{\"attr_names\":[\"data\"],\"name\":\"some schema\",\"version\":\"0.0.1\"},\"type\":\"101\"},\"protocolVersion\":2,\"reqId\":1625848632333366752,\"signatures\":{\"7BVkD5QLC2MMLFGq2uoeU8\":\"qyXjJu8HH7ShREreewBYyKcBr5h3MZbbmHPYMmBEy5gvaT41NVBEtGKFZUfWn3NPxNXoj27Pndh8NmcDG8dPXE8\",\"MH4Kr2vuxWmoWzD3rAhCa7\":\"4voKyQocmQMWQBsKsEF6pZx3xdYMwUNPLxKcK5ymszhQKqiurWhj2Ws6RqdMkzMErbMMX85qV55511QFA1riaEs1\"},\"taaAcceptance\":{\"mechanism\":\"service_agreement\",\"taaDigest\":\"8cee5d7a573e4893b08ff53a0761a22a1607df3b3fcd7e75b98696c92879641f\",\"time\":1625788800}}'}}], 'state': 'transaction_acked', 'formats': [{'attach_id': 'f0614c99-554e-4d6a-9add-d3f4a5a58a2e', 'format': 'dif/endorse-transaction/request@v1.0'}], 'messages_attach': [{'@id': 'f0614c99-554e-4d6a-9add-d3f4a5a58a2e', 'mime-type': 'application/json', 'data': {'json': '{\"endorser\":\"7BVkD5QLC2MMLFGq2uoeU8\",\"identifier\":\"MH4Kr2vuxWmoWzD3rAhCa7\",\"operation\":{\"data\":{\"attr_names\":[\"data\"],\"name\":\"some schema\",\"version\":\"0.0.1\"},\"type\":\"101\"},\"protocolVersion\":2,\"reqId\":1625848632333366752,\"signatures\":{\"7BVkD5QLC2MMLFGq2uoeU8\":\"qyXjJu8HH7ShREreewBYyKcBr5h3MZbbmHPYMmBEy5gvaT41NVBEtGKFZUfWn3NPxNXoj27Pndh8NmcDG8dPXE8\",\"MH4Kr2vuxWmoWzD3rAhCa7\":\"4voKyQocmQMWQBsKsEF6pZx3xdYMwUNPLxKcK5ymszhQKqiurWhj2Ws6RqdMkzMErbMMX85qV55511QFA1riaEs1\"},\"taaAcceptance\":{\"mechanism\":\"service_agreement\",\"taaDigest\":\"8cee5d7a573e4893b08ff53a0761a22a1607df3b3fcd7e75b98696c92879641f\",\"time\":1625788800}}'}}], 'trace': False, 'created_at': '2021-07-09 16:37:12.336658Z', 'timing': {'expires_time': '2021-09-29T05:22:19Z'}, 'endorser_write_txn': True, 'transaction_id': 'b925e0e7-2e7f-4ae9-9eea-65fcacf00bab'}\n"
     ]
    }
   ],
   "source": [
    "transaction = await agent_controller.transactions.get_by_id(transaction_id)\n",
    "print(transaction)"
   ]
  },
  {
   "cell_type": "code",
   "execution_count": 33,
   "id": "62f50a9e",
   "metadata": {},
   "outputs": [
    {
     "data": {
      "text/plain": [
       "{'schema_ids': ['MH4Kr2vuxWmoWzD3rAhCa7:2:some schema:0.0.1',\n",
       "  'MH4Kr2vuxWmoWzD3rAhCa7:2:some schema:0.0.1']}"
      ]
     },
     "execution_count": 33,
     "metadata": {},
     "output_type": "execute_result"
    }
   ],
   "source": [
    "await agent_controller.schema.get_created_schema()"
   ]
  },
  {
   "cell_type": "markdown",
   "id": "d1aef808",
   "metadata": {},
   "source": [
    "## Writing Credential Definitions\n",
    "\n",
    "For all schema you intend to issue credentials against your agent must author a credential definition transaction to the public ledger. This specifies the public cryptographic material your agent will use to sign all credentials issued against a specific schema. \n",
    "\n",
    "Again uncomment and copy this cell as often as you need. Remebering to update the arguments in <> to specify your schema identifiers. Store each credential definition identifier in a unique variable."
   ]
  },
  {
   "cell_type": "code",
   "execution_count": 1,
   "id": "7d300ef6",
   "metadata": {},
   "outputs": [],
   "source": [
    "# Tag and group specific credential definitions\n",
    "tag = \"default\"\n",
    "\n",
    "# Make Cred Def support revocation. Credentials issued using this definition will be able to be revoked.\n",
    "# Note: ACAPY_TAILS_SERVER_BASE_URL env var must be properly configured\n",
    "support_revocation = False\n",
    "\n",
    "# cred_def_response = await agent_controller.definitions.write_cred_def(<SCHEMA ID>, tag, support_revocation)\n",
    "# <YOUR CRED DEF ID> = cred_def_response[\"credential_definition_id\"]"
   ]
  },
  {
   "cell_type": "markdown",
   "id": "e72be2b9",
   "metadata": {},
   "source": [
    "## Persist Identifiers for use throughout other business logic notebooks associated with this agent\n",
    "\n",
    "The schema_id and cred_def_id value pairs are required whenever issuing credentials, and also can be used to constrain acceptable proof requests. In a real application these values might be stored in environment variables or most likely in a database. For notebooks we have found it easier to store as string values in a cell and then load these values into the jupyter store so that they can be fetched across multiple notebooks.\n",
    "\n",
    "As such you are recommended to print out each of the schema and cred def identifiers used by your agent and copy them across to your **main** business logic notebook where you should store them in a variable and save them to the jupyter store. Remember, you should only be running this notebook once so having this logic in here will not be useful.\n"
   ]
  },
  {
   "cell_type": "code",
   "execution_count": null,
   "id": "b3c5e983",
   "metadata": {},
   "outputs": [],
   "source": [
    "print(f\"schema_id='{<YOUR SCHEMA ID>}'\")\n",
    "print(f\"cred_def_id='{<YOUR CRED DEF ID>}'\")"
   ]
  },
  {
   "cell_type": "markdown",
   "id": "c23c8ecc",
   "metadata": {},
   "source": [
    "## Terminate Controller\n"
   ]
  },
  {
   "cell_type": "code",
   "execution_count": 27,
   "id": "184fd6f8",
   "metadata": {},
   "outputs": [],
   "source": [
    "await agent_controller.terminate()"
   ]
  },
  {
   "cell_type": "code",
   "execution_count": null,
   "id": "c4711f1e",
   "metadata": {},
   "outputs": [],
   "source": []
  }
 ],
 "metadata": {
  "kernelspec": {
   "display_name": "Python 3",
   "language": "python",
   "name": "python3"
  },
  "language_info": {
   "codemirror_mode": {
    "name": "ipython",
    "version": 3
   },
   "file_extension": ".py",
   "mimetype": "text/x-python",
   "name": "python",
   "nbconvert_exporter": "python",
   "pygments_lexer": "ipython3",
   "version": "3.8.5"
  }
 },
 "nbformat": 4,
 "nbformat_minor": 5
}
